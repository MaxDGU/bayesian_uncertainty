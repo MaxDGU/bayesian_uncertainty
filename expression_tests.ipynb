{
 "cells": [
  {
   "cell_type": "code",
   "execution_count": 1,
   "metadata": {
    "colab": {
     "base_uri": "https://localhost:8080/"
    },
    "id": "LRTA1XIYZ0bN",
    "outputId": "e32c969f-a189-4e01-bf69-07ee29b8ed68",
    "pycharm": {
     "name": "#%%\n"
    }
   },
   "outputs": [],
   "source": [
    "import sys\n",
    "\n",
    "#if branch is stable, will install via pypi, else will install from source\n",
    "branch = \"stable\"\n",
    "IN_COLAB = \"google.colab\" in sys.modules\n",
    "\n",
    "if IN_COLAB and branch == \"stable\":\n",
    "    !pip3 install --quiet scvi-tools[tutorials]\n",
    "elif IN_COLAB and branch != \"stable\":\n",
    "    !pip3 install --quiet --upgrade jsonschema\n",
    "    !pip3 install --quiet git+https://github.com/yoseflab/scvi-tools@$branch#egg=scvi-tools[tutorials]"
   ]
  },
  {
   "cell_type": "code",
   "execution_count": 2,
   "metadata": {
    "colab": {
     "base_uri": "https://localhost:8080/"
    },
    "id": "fKv83AN6hcWO",
    "outputId": "547b3fd4-aca8-4468-84f0-f99a0251d209"
   },
   "outputs": [],
   "source": [
    "import scvi\n",
    "import scanpy as sc\n",
    "\n",
    "sc.set_figure_params(figsize=(4, 4))"
   ]
  },
  {
   "cell_type": "code",
   "execution_count": 3,
   "metadata": {},
   "outputs": [
    {
     "name": "stdout",
     "output_type": "stream",
     "text": [
      "0.11.0\n"
     ]
    }
   ],
   "source": [
    "print(scvi.__version__)"
   ]
  },
  {
   "cell_type": "markdown",
   "metadata": {
    "id": "oPGuX2wPZ0bS"
   },
   "source": [
    "## Loading and preparing data\n",
    "\n",
    "Let us first load a subsampled version of the heart cell atlas dataset described in Litviňuková et al. (2020). scvi-tools has many \"built-in\" datasets as well as support for loading arbitrary `.csv`, `.loom`, and `.h5ad` (AnnData) files. Please see our tutorial on [data loading](data_loading.ipynb) for more examples.\n",
    "\n",
    "* Litviňuková, M., Talavera-López, C., Maatz, H., Reichart, D., Worth, C. L., Lindberg, E. L., ... & Teichmann, S. A. (2020). Cells of the adult human heart. Nature, 588(7838), 466-472."
   ]
  },
  {
   "cell_type": "markdown",
   "metadata": {
    "id": "CKEgQJG3mVJh"
   },
   "source": [
    "<div class=\"alert alert-info\">\n",
    "Important\n",
    "\n",
    "All scvi-tools models require AnnData objects as input. \n",
    "\n",
    "</div>"
   ]
  },
  {
   "cell_type": "code",
   "execution_count": 4,
   "metadata": {
    "colab": {
     "base_uri": "https://localhost:8080/"
    },
    "id": "oR_q5qzbuzGN",
    "outputId": "8d6b09db-031e-4531-9bca-46fb258bbd59"
   },
   "outputs": [
    {
     "name": "stdout",
     "output_type": "stream",
     "text": [
      "\u001b[34mINFO    \u001b[0m File data/hca_subsampled_20k.h5ad already downloaded                                \n",
      "\u001b[34mINFO    \u001b[0m No batch_key inputted, assuming all cells are same batch                            \n",
      "\u001b[34mINFO    \u001b[0m No label_key inputted, assuming all cells have same label                           \n",
      "\u001b[34mINFO    \u001b[0m Using data from adata.X                                                             \n",
      "\u001b[34mINFO    \u001b[0m Computing library size prior per batch                                              \n",
      "\u001b[34mINFO    \u001b[0m Successfully registered anndata object containing \u001b[1;36m18641\u001b[0m cells, \u001b[1;36m26662\u001b[0m vars, \u001b[1;36m1\u001b[0m        \n",
      "         batches, \u001b[1;36m1\u001b[0m labels, and \u001b[1;36m0\u001b[0m proteins. Also registered \u001b[1;36m0\u001b[0m extra categorical covariates   \n",
      "         and \u001b[1;36m0\u001b[0m extra continuous covariates.                                                  \n",
      "\u001b[34mINFO    \u001b[0m Please do not further modify adata until model is trained.                          \n"
     ]
    }
   ],
   "source": [
    "adata = scvi.data.heart_cell_atlas_subsampled()"
   ]
  },
  {
   "cell_type": "markdown",
   "metadata": {
    "id": "USVZNzYFqWby"
   },
   "source": [
    "Now we preprocess the data to remove, for example, genes that are very lowly expressed and other outliers. For these tasks we prefer the [Scanpy preprocessing module](https://scanpy.readthedocs.io/en/stable/api/index.html#module-scanpy.pp)."
   ]
  },
  {
   "cell_type": "code",
   "execution_count": 5,
   "metadata": {
    "id": "6l5MYjxEqTcp"
   },
   "outputs": [],
   "source": [
    "sc.pp.filter_genes(adata, min_counts=3)"
   ]
  },
  {
   "cell_type": "markdown",
   "metadata": {
    "id": "7_JMKQMBqp02"
   },
   "source": [
    "In scRNA-seq analysis, it's popular to normalize the data. These values are not used by scvi-tools, but given their popularity in other tasks as well as for visualization, we store them in the anndata object separately (via the `.raw` attribute)."
   ]
  },
  {
   "cell_type": "code",
   "execution_count": 6,
   "metadata": {
    "id": "QXIxM_VgqovL"
   },
   "outputs": [],
   "source": [
    "adata.layers[\"counts\"] = adata.X.copy() # preserve counts\n",
    "sc.pp.normalize_total(adata, target_sum=1e4)\n",
    "sc.pp.log1p(adata)\n",
    "adata.raw = adata # freeze the state in `.raw`"
   ]
  },
  {
   "cell_type": "markdown",
   "metadata": {
    "id": "7ocFplFetywZ"
   },
   "source": [
    "Finally, we perform feature selection, to reduce the number of features (genes in this case) used as input to the scvi-tools model. For best practices of how/when to perform feature selection, please refer to the model-specific tutorial. For scVI, we recommend anywhere from 1,000 to 10,000 HVGs, but it will be context-dependent."
   ]
  },
  {
   "cell_type": "code",
   "execution_count": 7,
   "metadata": {
    "id": "j8gBNU_7txZU"
   },
   "outputs": [],
   "source": [
    "sc.pp.highly_variable_genes(\n",
    "    adata, \n",
    "    n_top_genes=1200, \n",
    "    subset=True, \n",
    "    layer=\"counts\", \n",
    "    flavor=\"seurat_v3\",\n",
    "    batch_key=\"cell_source\"\n",
    ")"
   ]
  },
  {
   "cell_type": "markdown",
   "metadata": {
    "id": "RcUzIOGbrKMf"
   },
   "source": [
    "Now it's time to run `setup_anndata()`, which alerts scvi-tools to the locations of various matrices inside the anndata. It's important to run this function with the correct arguments so scvi-tools is notified that your dataset has batches, annotations, etc. For example, if batches are registered with scvi-tools, the subsequent model will correct for batch effects. See the full documentation for details.\n",
    "\n",
    "In this dataset, there is a \"cell_source\" categorical covariate, and within each \"cell_source\", multiple \"donors\", \"gender\" and \"age_group\". There are also two continuous covariates we'd like to correct for: \"percent_mito\" and \"percent_ribo\". These covariates can be registered using the `categorical_covariate_keys` argument. If you only have one categorical covariate, you can also use the `batch_key` argument instead."
   ]
  },
  {
   "cell_type": "code",
   "execution_count": 8,
   "metadata": {
    "colab": {
     "base_uri": "https://localhost:8080/"
    },
    "id": "d46OgftwrJhl",
    "outputId": "8c53e691-c28e-4186-9508-e1e4c33823c7"
   },
   "outputs": [
    {
     "name": "stdout",
     "output_type": "stream",
     "text": [
      "\u001b[34mINFO    \u001b[0m No batch_key inputted, assuming all cells are same batch                            \n",
      "\u001b[34mINFO    \u001b[0m No label_key inputted, assuming all cells have same label                           \n",
      "\u001b[34mINFO    \u001b[0m Using data from adata.layers\u001b[1m[\u001b[0m\u001b[32m\"counts\"\u001b[0m\u001b[1m]\u001b[0m                                              \n",
      "\u001b[34mINFO    \u001b[0m Computing library size prior per batch                                              \n",
      "\u001b[34mINFO    \u001b[0m Successfully registered anndata object containing \u001b[1;36m18641\u001b[0m cells, \u001b[1;36m1200\u001b[0m vars, \u001b[1;36m1\u001b[0m batches,\n",
      "         \u001b[1;36m1\u001b[0m labels, and \u001b[1;36m0\u001b[0m proteins. Also registered \u001b[1;36m2\u001b[0m extra categorical covariates and \u001b[1;36m2\u001b[0m extra\n",
      "         continuous covariates.                                                              \n",
      "\u001b[34mINFO    \u001b[0m Please do not further modify adata until model is trained.                          \n"
     ]
    }
   ],
   "source": [
    "scvi.data.setup_anndata(\n",
    "    adata,\n",
    "    layer=\"counts\",\n",
    "    categorical_covariate_keys=[\"cell_source\", \"donor\"],\n",
    "    continuous_covariate_keys=[\"percent_mito\", \"percent_ribo\"]\n",
    ")"
   ]
  },
  {
   "cell_type": "markdown",
   "metadata": {
    "id": "RVHQRTbGowQC"
   },
   "source": [
    "<div class=\"alert alert-warning\">\n",
    "\n",
    "Warning\n",
    "\n",
    "If the adata is modified after running `setup_anndata`, please run `setup_anndata` again.\n",
    "\n",
    "</div>"
   ]
  },
  {
   "cell_type": "markdown",
   "metadata": {
    "id": "RAWmYvjkZ0bW"
   },
   "source": [
    "## Creating and training a model\n",
    "\n",
    "While we highlight the scVI model here, the API is consistent across all scvi-tools models and is inspired by that of [scikit-learn](https://scikit-learn.org/stable/). For a full list of options, see the scvi [documentation](https://scvi-tools.org)."
   ]
  },
  {
   "cell_type": "code",
   "execution_count": 87,
   "metadata": {
    "id": "xPnlTctkZ0bX"
   },
   "outputs": [],
   "source": [
    "model = scvi.model.SCVI(adata)"
   ]
  },
  {
   "cell_type": "markdown",
   "metadata": {
    "id": "vTQ8KwoNr5_K"
   },
   "source": [
    "We can see an overview of the model by printing it."
   ]
  },
  {
   "cell_type": "code",
   "execution_count": 88,
   "metadata": {
    "colab": {
     "base_uri": "https://localhost:8080/",
     "height": 115
    },
    "id": "ogKNFwVQr392",
    "outputId": "93884a58-7539-4ff3-9e66-de2ed93e219c"
   },
   "outputs": [
    {
     "data": {
      "text/html": [
       "<pre style=\"white-space:pre;overflow-x:auto;line-height:normal;font-family:Menlo,'DejaVu Sans Mono',consolas,'Courier New',monospace\">SCVI Model with the following params: \n",
       "n_hidden: <span style=\"color: #008080; text-decoration-color: #008080; font-weight: bold\">128</span>, n_latent: <span style=\"color: #008080; text-decoration-color: #008080; font-weight: bold\">10</span>, n_layers: <span style=\"color: #008080; text-decoration-color: #008080; font-weight: bold\">1</span>, dropout_rate: <span style=\"color: #008080; text-decoration-color: #008080; font-weight: bold\">0.1</span>, dispersion: gene, \n",
       "gene_likelihood: zinb, latent_distribution: normal\n",
       "Training status: Not Trained\n",
       "</pre>\n"
      ],
      "text/plain": [
       "SCVI Model with the following params: \n",
       "n_hidden: \u001b[1;36m128\u001b[0m, n_latent: \u001b[1;36m10\u001b[0m, n_layers: \u001b[1;36m1\u001b[0m, dropout_rate: \u001b[1;36m0.1\u001b[0m, dispersion: gene, \n",
       "gene_likelihood: zinb, latent_distribution: normal\n",
       "Training status: Not Trained\n"
      ]
     },
     "metadata": {},
     "output_type": "display_data"
    },
    {
     "data": {
      "text/html": [
       "<pre style=\"white-space:pre;overflow-x:auto;line-height:normal;font-family:Menlo,'DejaVu Sans Mono',consolas,'Courier New',monospace\">\n",
       "\n",
       "To print summary of associated AnnData, use: <span style=\"color: #af00d7; text-decoration-color: #af00d7\">scvi.data.view_anndata_setup(model.adata)</span>\n",
       "</pre>\n"
      ],
      "text/plain": [
       "\n",
       "\n",
       "To print summary of associated AnnData, use: \u001b[38;5;128mscvi.data.view_anndata_setup(model.adata)\u001b[0m\n"
      ]
     },
     "metadata": {},
     "output_type": "display_data"
    },
    {
     "data": {
      "text/plain": []
     },
     "execution_count": 88,
     "metadata": {},
     "output_type": "execute_result"
    }
   ],
   "source": [
    "model"
   ]
  },
  {
   "cell_type": "code",
   "execution_count": 89,
   "metadata": {
    "colab": {
     "base_uri": "https://localhost:8080/"
    },
    "id": "2DT6Im69ZPFu",
    "outputId": "8c5188fb-593a-48b4-eb89-4cd922d9271a"
   },
   "outputs": [
    {
     "name": "stderr",
     "output_type": "stream",
     "text": [
      "GPU available: False, used: False\n",
      "TPU available: False, using: 0 TPU cores\n"
     ]
    },
    {
     "name": "stdout",
     "output_type": "stream",
     "text": [
      "Epoch 2/400:   0%|          | 1/400 [00:02<16:45,  2.52s/it, loss=321, v_num=1]"
     ]
    },
    {
     "name": "stderr",
     "output_type": "stream",
     "text": [
      "/opt/conda/lib/python3.7/site-packages/pytorch_lightning/utilities/distributed.py:69: UserWarning: Detected KeyboardInterrupt, attempting graceful shutdown...\n",
      "  warnings.warn(*args, **kwargs)\n"
     ]
    }
   ],
   "source": [
    "model.train()"
   ]
  },
  {
   "cell_type": "markdown",
   "metadata": {
    "id": "3jRIM0NRa03N"
   },
   "source": [
    "### Saving and loading\n",
    "\n",
    "Saving consists of saving the model neural network weights, as well as parameters used to initialize the model."
   ]
  },
  {
   "cell_type": "code",
   "execution_count": 392,
   "metadata": {},
   "outputs": [],
   "source": [
    "def get_var_value(filename=\"varstore.dat\"):\n",
    "    with open(filename, \"a+\") as f:\n",
    "        f.seek(0)\n",
    "        val = int(f.read() or 0) + 1\n",
    "        f.seek(0)\n",
    "        f.truncate()\n",
    "        f.write(str(val))\n",
    "        return val\n",
    "count = get_var_value()\n"
   ]
  },
  {
   "cell_type": "code",
   "execution_count": 393,
   "metadata": {
    "id": "MfaDMe3tayj_"
   },
   "outputs": [],
   "source": [
    "model.save(\"my_model\" + str(count) + \"/\")\n"
   ]
  },
  {
   "cell_type": "code",
   "execution_count": 9,
   "metadata": {
    "colab": {
     "base_uri": "https://localhost:8080/"
    },
    "id": "xYIQnbm1a-wF",
    "outputId": "428b9ca9-62ac-4591-a873-062724ac1d8e"
   },
   "outputs": [
    {
     "name": "stdout",
     "output_type": "stream",
     "text": [
      "\u001b[34mINFO    \u001b[0m Using data from adata.layers\u001b[1m[\u001b[0m\u001b[32m\"counts\"\u001b[0m\u001b[1m]\u001b[0m                                              \n"
     ]
    },
    {
     "name": "stderr",
     "output_type": "stream",
     "text": [
      "/opt/conda/lib/python3.7/site-packages/torch/cuda/__init__.py:52: UserWarning: CUDA initialization: CUDA unknown error - this may be due to an incorrectly set up environment, e.g. changing env variable CUDA_VISIBLE_DEVICES after program start. Setting the available devices to be zero. (Triggered internally at  /opt/conda/conda-bld/pytorch_1614378098133/work/c10/cuda/CUDAFunctions.cpp:109.)\n",
      "  return torch._C._cuda_getDeviceCount() > 0\n"
     ]
    },
    {
     "name": "stdout",
     "output_type": "stream",
     "text": [
      "\u001b[34mINFO    \u001b[0m Computing library size prior per batch                                              \n",
      "\u001b[34mINFO    \u001b[0m Registered keys:\u001b[1m[\u001b[0m\u001b[32m'X'\u001b[0m, \u001b[32m'batch_indices'\u001b[0m, \u001b[32m'local_l_mean'\u001b[0m, \u001b[32m'local_l_var'\u001b[0m, \u001b[32m'labels'\u001b[0m,     \n",
      "         \u001b[32m'cat_covs'\u001b[0m, \u001b[32m'cont_covs'\u001b[0m\u001b[1m]\u001b[0m                                                            \n",
      "\u001b[34mINFO    \u001b[0m Successfully registered anndata object containing \u001b[1;36m18641\u001b[0m cells, \u001b[1;36m1200\u001b[0m vars, \u001b[1;36m1\u001b[0m batches,\n",
      "         \u001b[1;36m1\u001b[0m labels, and \u001b[1;36m0\u001b[0m proteins. Also registered \u001b[1;36m2\u001b[0m extra categorical covariates and \u001b[1;36m2\u001b[0m extra\n",
      "         continuous covariates.                                                              \n"
     ]
    }
   ],
   "source": [
    "#model = scvi.model.SCVI.load(\"my_model\" + str(count) + \"/\", adata, use_gpu=False)\n",
    "model = scvi.model.SCVI.load(\"my_model1/\", adata, use_gpu=False)\n"
   ]
  },
  {
   "cell_type": "markdown",
   "metadata": {
    "id": "iVy8Eo1-Z0be"
   },
   "source": [
    "\n",
    "\n",
    "## Obtaining model outputs"
   ]
  },
  {
   "cell_type": "code",
   "execution_count": 10,
   "metadata": {
    "id": "R4FwiBpUtQJa"
   },
   "outputs": [],
   "source": [
    "latent = model.get_latent_representation()"
   ]
  },
  {
   "cell_type": "markdown",
   "metadata": {
    "id": "Cgnqal7kvArn"
   },
   "source": [
    "It's often useful to store the outputs of scvi-tools back into the original anndata, as it permits interoperability with Scanpy."
   ]
  },
  {
   "cell_type": "code",
   "execution_count": 11,
   "metadata": {
    "id": "nXFAjVazvHj7"
   },
   "outputs": [],
   "source": [
    "adata.obsm[\"X_scVI\"] = latent"
   ]
  },
  {
   "cell_type": "markdown",
   "metadata": {
    "id": "merbABa3u8rg"
   },
   "source": [
    "The `model.get...()` functions default to using the anndata that was used to initialize the model. It's possible to also query a subset of the anndata, or even use a completely independent anndata object as long as the anndata is organized in an equivalent fashion."
   ]
  },
  {
   "cell_type": "code",
   "execution_count": 12,
   "metadata": {
    "colab": {
     "base_uri": "https://localhost:8080/",
     "height": 233
    },
    "id": "pa4xQzkv6Ov_",
    "outputId": "700cd959-5fe9-459e-ba4c-c75d364e5b89"
   },
   "outputs": [
    {
     "name": "stdout",
     "output_type": "stream",
     "text": [
      "\u001b[34mINFO    \u001b[0m Received view of anndata, making copy.                                              \n",
      "\u001b[34mINFO    \u001b[0m Received view of anndata, making copy.                                              \n",
      "\u001b[34mINFO    \u001b[0m Received view of anndata, making copy.                                              \n"
     ]
    }
   ],
   "source": [
    "import numpy as np\n",
    "adata.layers[\"scvi_normalized\"] = model.get_normalized_expression(\n",
    "    library_size=10e4\n",
    ")\n",
    "\n",
    "fibroblast = adata[adata.obs.cell_type == \"Fibroblast\"]\n",
    "smooth = adata[adata.obs.cell_type == \"Smooth_muscle_cells\"]\n",
    "myeloid = adata[adata.obs.cell_type == \"Myeloid\"]\n",
    "f = model.get_normalized_expression(fibroblast, return_mean=False)\n",
    "s = model.get_normalized_expression(smooth, return_mean=False)\n",
    "m = model.get_normalized_expression(myeloid, return_mean=False)\n"
   ]
  },
  {
   "cell_type": "code",
   "execution_count": 13,
   "metadata": {},
   "outputs": [],
   "source": [
    "#initialize storage matrices with model1 data\n",
    "DCN= []\n",
    "for i in f[\"DCN\"]:\n",
    "    DCN.append([i])\n",
    "GSN = []\n",
    "for i in f[\"GSN\"]:\n",
    "    GSN.append([i])\n",
    "PDGFRA = []\n",
    "for i in f[\"PDGFRA\"]:\n",
    "    PDGFRA.append([i])\n",
    "\n",
    "MYH11 = []\n",
    "for i in s[\"MYH11\"]:\n",
    "    MYH11.append([i])\n",
    "TAGLN = []\n",
    "for i in s[\"TAGLN\"]:\n",
    "    TAGLN.append([i])\n",
    "ACTA2= []\n",
    "for i in s[\"ACTA2\"]:\n",
    "    ACTA2.append([i])\n",
    "\n",
    "CD14 = []\n",
    "for i in m[\"CD14\"]:\n",
    "    CD14.append([i])\n",
    "C1QA = []\n",
    "for i in m[\"C1QA\"]:\n",
    "    C1QA.append([i])\n",
    "CD68 = []\n",
    "for i in m[\"CD68\"]:\n",
    "    CD68.append([i])\n"
   ]
  },
  {
   "cell_type": "code",
   "execution_count": 25,
   "metadata": {},
   "outputs": [
    {
     "name": "stdout",
     "output_type": "stream",
     "text": [
      "0.0018328326199681692\n"
     ]
    }
   ],
   "source": [
    "print(np.mean(np.array(CD68)))"
   ]
  },
  {
   "cell_type": "code",
   "execution_count": 26,
   "metadata": {
    "collapsed": true,
    "jupyter": {
     "outputs_hidden": true
    }
   },
   "outputs": [
    {
     "name": "stdout",
     "output_type": "stream",
     "text": [
      "\u001b[34mINFO    \u001b[0m Using data from adata.layers\u001b[1m[\u001b[0m\u001b[32m\"counts\"\u001b[0m\u001b[1m]\u001b[0m                                              \n",
      "\u001b[34mINFO    \u001b[0m Computing library size prior per batch                                              \n",
      "\u001b[34mINFO    \u001b[0m Registered keys:\u001b[1m[\u001b[0m\u001b[32m'X'\u001b[0m, \u001b[32m'batch_indices'\u001b[0m, \u001b[32m'local_l_mean'\u001b[0m, \u001b[32m'local_l_var'\u001b[0m, \u001b[32m'labels'\u001b[0m,     \n",
      "         \u001b[32m'cat_covs'\u001b[0m, \u001b[32m'cont_covs'\u001b[0m\u001b[1m]\u001b[0m                                                            \n",
      "\u001b[34mINFO    \u001b[0m Successfully registered anndata object containing \u001b[1;36m18641\u001b[0m cells, \u001b[1;36m1200\u001b[0m vars, \u001b[1;36m1\u001b[0m batches,\n",
      "         \u001b[1;36m1\u001b[0m labels, and \u001b[1;36m0\u001b[0m proteins. Also registered \u001b[1;36m2\u001b[0m extra categorical covariates and \u001b[1;36m2\u001b[0m extra\n",
      "         continuous covariates.                                                              \n",
      "\u001b[34mINFO    \u001b[0m Received view of anndata, making copy.                                              \n",
      "\u001b[34mINFO    \u001b[0m Received view of anndata, making copy.                                              \n",
      "\u001b[34mINFO    \u001b[0m Received view of anndata, making copy.                                              \n"
     ]
    },
    {
     "name": "stderr",
     "output_type": "stream",
     "text": [
      "/opt/conda/lib/python3.7/site-packages/ipykernel_launcher.py:79: VisibleDeprecationWarning: Creating an ndarray from ragged nested sequences (which is a list-or-tuple of lists-or-tuples-or ndarrays with different lengths or shapes) is deprecated. If you meant to do this, you must specify 'dtype=object' when creating the ndarray\n",
      "/opt/conda/lib/python3.7/site-packages/ipykernel_launcher.py:80: VisibleDeprecationWarning: Creating an ndarray from ragged nested sequences (which is a list-or-tuple of lists-or-tuples-or ndarrays with different lengths or shapes) is deprecated. If you meant to do this, you must specify 'dtype=object' when creating the ndarray\n"
     ]
    },
    {
     "name": "stdout",
     "output_type": "stream",
     "text": [
      "\u001b[34mINFO    \u001b[0m Using data from adata.layers\u001b[1m[\u001b[0m\u001b[32m\"counts\"\u001b[0m\u001b[1m]\u001b[0m                                              \n",
      "\u001b[34mINFO    \u001b[0m Computing library size prior per batch                                              \n",
      "\u001b[34mINFO    \u001b[0m Registered keys:\u001b[1m[\u001b[0m\u001b[32m'X'\u001b[0m, \u001b[32m'batch_indices'\u001b[0m, \u001b[32m'local_l_mean'\u001b[0m, \u001b[32m'local_l_var'\u001b[0m, \u001b[32m'labels'\u001b[0m,     \n",
      "         \u001b[32m'cat_covs'\u001b[0m, \u001b[32m'cont_covs'\u001b[0m\u001b[1m]\u001b[0m                                                            \n",
      "\u001b[34mINFO    \u001b[0m Successfully registered anndata object containing \u001b[1;36m18641\u001b[0m cells, \u001b[1;36m1200\u001b[0m vars, \u001b[1;36m1\u001b[0m batches,\n",
      "         \u001b[1;36m1\u001b[0m labels, and \u001b[1;36m0\u001b[0m proteins. Also registered \u001b[1;36m2\u001b[0m extra categorical covariates and \u001b[1;36m2\u001b[0m extra\n",
      "         continuous covariates.                                                              \n",
      "\u001b[34mINFO    \u001b[0m Received view of anndata, making copy.                                              \n",
      "\u001b[34mINFO    \u001b[0m Received view of anndata, making copy.                                              \n",
      "\u001b[34mINFO    \u001b[0m Received view of anndata, making copy.                                              \n",
      "\u001b[34mINFO    \u001b[0m Using data from adata.layers\u001b[1m[\u001b[0m\u001b[32m\"counts\"\u001b[0m\u001b[1m]\u001b[0m                                              \n",
      "\u001b[34mINFO    \u001b[0m Computing library size prior per batch                                              \n"
     ]
    },
    {
     "name": "stderr",
     "output_type": "stream",
     "text": [
      "/opt/conda/lib/python3.7/site-packages/ipykernel_launcher.py:79: VisibleDeprecationWarning: Creating an ndarray from ragged nested sequences (which is a list-or-tuple of lists-or-tuples-or ndarrays with different lengths or shapes) is deprecated. If you meant to do this, you must specify 'dtype=object' when creating the ndarray\n",
      "/opt/conda/lib/python3.7/site-packages/ipykernel_launcher.py:80: VisibleDeprecationWarning: Creating an ndarray from ragged nested sequences (which is a list-or-tuple of lists-or-tuples-or ndarrays with different lengths or shapes) is deprecated. If you meant to do this, you must specify 'dtype=object' when creating the ndarray\n"
     ]
    },
    {
     "name": "stdout",
     "output_type": "stream",
     "text": [
      "\u001b[34mINFO    \u001b[0m Registered keys:\u001b[1m[\u001b[0m\u001b[32m'X'\u001b[0m, \u001b[32m'batch_indices'\u001b[0m, \u001b[32m'local_l_mean'\u001b[0m, \u001b[32m'local_l_var'\u001b[0m, \u001b[32m'labels'\u001b[0m,     \n",
      "         \u001b[32m'cat_covs'\u001b[0m, \u001b[32m'cont_covs'\u001b[0m\u001b[1m]\u001b[0m                                                            \n",
      "\u001b[34mINFO    \u001b[0m Successfully registered anndata object containing \u001b[1;36m18641\u001b[0m cells, \u001b[1;36m1200\u001b[0m vars, \u001b[1;36m1\u001b[0m batches,\n",
      "         \u001b[1;36m1\u001b[0m labels, and \u001b[1;36m0\u001b[0m proteins. Also registered \u001b[1;36m2\u001b[0m extra categorical covariates and \u001b[1;36m2\u001b[0m extra\n",
      "         continuous covariates.                                                              \n",
      "\u001b[34mINFO    \u001b[0m Received view of anndata, making copy.                                              \n",
      "\u001b[34mINFO    \u001b[0m Received view of anndata, making copy.                                              \n",
      "\u001b[34mINFO    \u001b[0m Received view of anndata, making copy.                                              \n",
      "\u001b[34mINFO    \u001b[0m Using data from adata.layers\u001b[1m[\u001b[0m\u001b[32m\"counts\"\u001b[0m\u001b[1m]\u001b[0m                                              \n",
      "\u001b[34mINFO    \u001b[0m Computing library size prior per batch                                              \n"
     ]
    },
    {
     "name": "stderr",
     "output_type": "stream",
     "text": [
      "/opt/conda/lib/python3.7/site-packages/ipykernel_launcher.py:79: VisibleDeprecationWarning: Creating an ndarray from ragged nested sequences (which is a list-or-tuple of lists-or-tuples-or ndarrays with different lengths or shapes) is deprecated. If you meant to do this, you must specify 'dtype=object' when creating the ndarray\n",
      "/opt/conda/lib/python3.7/site-packages/ipykernel_launcher.py:80: VisibleDeprecationWarning: Creating an ndarray from ragged nested sequences (which is a list-or-tuple of lists-or-tuples-or ndarrays with different lengths or shapes) is deprecated. If you meant to do this, you must specify 'dtype=object' when creating the ndarray\n"
     ]
    },
    {
     "name": "stdout",
     "output_type": "stream",
     "text": [
      "\u001b[34mINFO    \u001b[0m Registered keys:\u001b[1m[\u001b[0m\u001b[32m'X'\u001b[0m, \u001b[32m'batch_indices'\u001b[0m, \u001b[32m'local_l_mean'\u001b[0m, \u001b[32m'local_l_var'\u001b[0m, \u001b[32m'labels'\u001b[0m,     \n",
      "         \u001b[32m'cat_covs'\u001b[0m, \u001b[32m'cont_covs'\u001b[0m\u001b[1m]\u001b[0m                                                            \n",
      "\u001b[34mINFO    \u001b[0m Successfully registered anndata object containing \u001b[1;36m18641\u001b[0m cells, \u001b[1;36m1200\u001b[0m vars, \u001b[1;36m1\u001b[0m batches,\n",
      "         \u001b[1;36m1\u001b[0m labels, and \u001b[1;36m0\u001b[0m proteins. Also registered \u001b[1;36m2\u001b[0m extra categorical covariates and \u001b[1;36m2\u001b[0m extra\n",
      "         continuous covariates.                                                              \n",
      "\u001b[34mINFO    \u001b[0m Received view of anndata, making copy.                                              \n",
      "\u001b[34mINFO    \u001b[0m Received view of anndata, making copy.                                              \n",
      "\u001b[34mINFO    \u001b[0m Received view of anndata, making copy.                                              \n",
      "\u001b[34mINFO    \u001b[0m Using data from adata.layers\u001b[1m[\u001b[0m\u001b[32m\"counts\"\u001b[0m\u001b[1m]\u001b[0m                                              \n"
     ]
    },
    {
     "name": "stderr",
     "output_type": "stream",
     "text": [
      "/opt/conda/lib/python3.7/site-packages/ipykernel_launcher.py:79: VisibleDeprecationWarning: Creating an ndarray from ragged nested sequences (which is a list-or-tuple of lists-or-tuples-or ndarrays with different lengths or shapes) is deprecated. If you meant to do this, you must specify 'dtype=object' when creating the ndarray\n",
      "/opt/conda/lib/python3.7/site-packages/ipykernel_launcher.py:80: VisibleDeprecationWarning: Creating an ndarray from ragged nested sequences (which is a list-or-tuple of lists-or-tuples-or ndarrays with different lengths or shapes) is deprecated. If you meant to do this, you must specify 'dtype=object' when creating the ndarray\n"
     ]
    },
    {
     "name": "stdout",
     "output_type": "stream",
     "text": [
      "\u001b[34mINFO    \u001b[0m Computing library size prior per batch                                              \n",
      "\u001b[34mINFO    \u001b[0m Registered keys:\u001b[1m[\u001b[0m\u001b[32m'X'\u001b[0m, \u001b[32m'batch_indices'\u001b[0m, \u001b[32m'local_l_mean'\u001b[0m, \u001b[32m'local_l_var'\u001b[0m, \u001b[32m'labels'\u001b[0m,     \n",
      "         \u001b[32m'cat_covs'\u001b[0m, \u001b[32m'cont_covs'\u001b[0m\u001b[1m]\u001b[0m                                                            \n",
      "\u001b[34mINFO    \u001b[0m Successfully registered anndata object containing \u001b[1;36m18641\u001b[0m cells, \u001b[1;36m1200\u001b[0m vars, \u001b[1;36m1\u001b[0m batches,\n",
      "         \u001b[1;36m1\u001b[0m labels, and \u001b[1;36m0\u001b[0m proteins. Also registered \u001b[1;36m2\u001b[0m extra categorical covariates and \u001b[1;36m2\u001b[0m extra\n",
      "         continuous covariates.                                                              \n",
      "\u001b[34mINFO    \u001b[0m Received view of anndata, making copy.                                              \n",
      "\u001b[34mINFO    \u001b[0m Received view of anndata, making copy.                                              \n",
      "\u001b[34mINFO    \u001b[0m Received view of anndata, making copy.                                              \n",
      "\u001b[34mINFO    \u001b[0m Using data from adata.layers\u001b[1m[\u001b[0m\u001b[32m\"counts\"\u001b[0m\u001b[1m]\u001b[0m                                              \n",
      "\u001b[34mINFO    \u001b[0m Computing library size prior per batch                                              \n"
     ]
    },
    {
     "name": "stderr",
     "output_type": "stream",
     "text": [
      "/opt/conda/lib/python3.7/site-packages/ipykernel_launcher.py:79: VisibleDeprecationWarning: Creating an ndarray from ragged nested sequences (which is a list-or-tuple of lists-or-tuples-or ndarrays with different lengths or shapes) is deprecated. If you meant to do this, you must specify 'dtype=object' when creating the ndarray\n",
      "/opt/conda/lib/python3.7/site-packages/ipykernel_launcher.py:80: VisibleDeprecationWarning: Creating an ndarray from ragged nested sequences (which is a list-or-tuple of lists-or-tuples-or ndarrays with different lengths or shapes) is deprecated. If you meant to do this, you must specify 'dtype=object' when creating the ndarray\n"
     ]
    },
    {
     "name": "stdout",
     "output_type": "stream",
     "text": [
      "\u001b[34mINFO    \u001b[0m Registered keys:\u001b[1m[\u001b[0m\u001b[32m'X'\u001b[0m, \u001b[32m'batch_indices'\u001b[0m, \u001b[32m'local_l_mean'\u001b[0m, \u001b[32m'local_l_var'\u001b[0m, \u001b[32m'labels'\u001b[0m,     \n",
      "         \u001b[32m'cat_covs'\u001b[0m, \u001b[32m'cont_covs'\u001b[0m\u001b[1m]\u001b[0m                                                            \n",
      "\u001b[34mINFO    \u001b[0m Successfully registered anndata object containing \u001b[1;36m18641\u001b[0m cells, \u001b[1;36m1200\u001b[0m vars, \u001b[1;36m1\u001b[0m batches,\n",
      "         \u001b[1;36m1\u001b[0m labels, and \u001b[1;36m0\u001b[0m proteins. Also registered \u001b[1;36m2\u001b[0m extra categorical covariates and \u001b[1;36m2\u001b[0m extra\n",
      "         continuous covariates.                                                              \n",
      "\u001b[34mINFO    \u001b[0m Received view of anndata, making copy.                                              \n",
      "\u001b[34mINFO    \u001b[0m Received view of anndata, making copy.                                              \n",
      "\u001b[34mINFO    \u001b[0m Received view of anndata, making copy.                                              \n"
     ]
    },
    {
     "name": "stderr",
     "output_type": "stream",
     "text": [
      "/opt/conda/lib/python3.7/site-packages/ipykernel_launcher.py:79: VisibleDeprecationWarning: Creating an ndarray from ragged nested sequences (which is a list-or-tuple of lists-or-tuples-or ndarrays with different lengths or shapes) is deprecated. If you meant to do this, you must specify 'dtype=object' when creating the ndarray\n",
      "/opt/conda/lib/python3.7/site-packages/ipykernel_launcher.py:80: VisibleDeprecationWarning: Creating an ndarray from ragged nested sequences (which is a list-or-tuple of lists-or-tuples-or ndarrays with different lengths or shapes) is deprecated. If you meant to do this, you must specify 'dtype=object' when creating the ndarray\n"
     ]
    },
    {
     "name": "stdout",
     "output_type": "stream",
     "text": [
      "\u001b[34mINFO    \u001b[0m Using data from adata.layers\u001b[1m[\u001b[0m\u001b[32m\"counts\"\u001b[0m\u001b[1m]\u001b[0m                                              \n",
      "\u001b[34mINFO    \u001b[0m Computing library size prior per batch                                              \n",
      "\u001b[34mINFO    \u001b[0m Registered keys:\u001b[1m[\u001b[0m\u001b[32m'X'\u001b[0m, \u001b[32m'batch_indices'\u001b[0m, \u001b[32m'local_l_mean'\u001b[0m, \u001b[32m'local_l_var'\u001b[0m, \u001b[32m'labels'\u001b[0m,     \n",
      "         \u001b[32m'cat_covs'\u001b[0m, \u001b[32m'cont_covs'\u001b[0m\u001b[1m]\u001b[0m                                                            \n",
      "\u001b[34mINFO    \u001b[0m Successfully registered anndata object containing \u001b[1;36m18641\u001b[0m cells, \u001b[1;36m1200\u001b[0m vars, \u001b[1;36m1\u001b[0m batches,\n",
      "         \u001b[1;36m1\u001b[0m labels, and \u001b[1;36m0\u001b[0m proteins. Also registered \u001b[1;36m2\u001b[0m extra categorical covariates and \u001b[1;36m2\u001b[0m extra\n",
      "         continuous covariates.                                                              \n",
      "\u001b[34mINFO    \u001b[0m Received view of anndata, making copy.                                              \n",
      "\u001b[34mINFO    \u001b[0m Received view of anndata, making copy.                                              \n",
      "\u001b[34mINFO    \u001b[0m Received view of anndata, making copy.                                              \n"
     ]
    },
    {
     "name": "stderr",
     "output_type": "stream",
     "text": [
      "/opt/conda/lib/python3.7/site-packages/ipykernel_launcher.py:79: VisibleDeprecationWarning: Creating an ndarray from ragged nested sequences (which is a list-or-tuple of lists-or-tuples-or ndarrays with different lengths or shapes) is deprecated. If you meant to do this, you must specify 'dtype=object' when creating the ndarray\n",
      "/opt/conda/lib/python3.7/site-packages/ipykernel_launcher.py:80: VisibleDeprecationWarning: Creating an ndarray from ragged nested sequences (which is a list-or-tuple of lists-or-tuples-or ndarrays with different lengths or shapes) is deprecated. If you meant to do this, you must specify 'dtype=object' when creating the ndarray\n"
     ]
    },
    {
     "name": "stdout",
     "output_type": "stream",
     "text": [
      "\u001b[34mINFO    \u001b[0m Using data from adata.layers\u001b[1m[\u001b[0m\u001b[32m\"counts\"\u001b[0m\u001b[1m]\u001b[0m                                              \n",
      "\u001b[34mINFO    \u001b[0m Computing library size prior per batch                                              \n",
      "\u001b[34mINFO    \u001b[0m Registered keys:\u001b[1m[\u001b[0m\u001b[32m'X'\u001b[0m, \u001b[32m'batch_indices'\u001b[0m, \u001b[32m'local_l_mean'\u001b[0m, \u001b[32m'local_l_var'\u001b[0m, \u001b[32m'labels'\u001b[0m,     \n",
      "         \u001b[32m'cat_covs'\u001b[0m, \u001b[32m'cont_covs'\u001b[0m\u001b[1m]\u001b[0m                                                            \n",
      "\u001b[34mINFO    \u001b[0m Successfully registered anndata object containing \u001b[1;36m18641\u001b[0m cells, \u001b[1;36m1200\u001b[0m vars, \u001b[1;36m1\u001b[0m batches,\n",
      "         \u001b[1;36m1\u001b[0m labels, and \u001b[1;36m0\u001b[0m proteins. Also registered \u001b[1;36m2\u001b[0m extra categorical covariates and \u001b[1;36m2\u001b[0m extra\n",
      "         continuous covariates.                                                              \n",
      "\u001b[34mINFO    \u001b[0m Received view of anndata, making copy.                                              \n",
      "\u001b[34mINFO    \u001b[0m Received view of anndata, making copy.                                              \n",
      "\u001b[34mINFO    \u001b[0m Received view of anndata, making copy.                                              \n",
      "\u001b[34mINFO    \u001b[0m Using data from adata.layers\u001b[1m[\u001b[0m\u001b[32m\"counts\"\u001b[0m\u001b[1m]\u001b[0m                                              \n",
      "\u001b[34mINFO    \u001b[0m Computing library size prior per batch                                              \n"
     ]
    },
    {
     "name": "stderr",
     "output_type": "stream",
     "text": [
      "/opt/conda/lib/python3.7/site-packages/ipykernel_launcher.py:79: VisibleDeprecationWarning: Creating an ndarray from ragged nested sequences (which is a list-or-tuple of lists-or-tuples-or ndarrays with different lengths or shapes) is deprecated. If you meant to do this, you must specify 'dtype=object' when creating the ndarray\n",
      "/opt/conda/lib/python3.7/site-packages/ipykernel_launcher.py:80: VisibleDeprecationWarning: Creating an ndarray from ragged nested sequences (which is a list-or-tuple of lists-or-tuples-or ndarrays with different lengths or shapes) is deprecated. If you meant to do this, you must specify 'dtype=object' when creating the ndarray\n"
     ]
    },
    {
     "name": "stdout",
     "output_type": "stream",
     "text": [
      "\u001b[34mINFO    \u001b[0m Registered keys:\u001b[1m[\u001b[0m\u001b[32m'X'\u001b[0m, \u001b[32m'batch_indices'\u001b[0m, \u001b[32m'local_l_mean'\u001b[0m, \u001b[32m'local_l_var'\u001b[0m, \u001b[32m'labels'\u001b[0m,     \n",
      "         \u001b[32m'cat_covs'\u001b[0m, \u001b[32m'cont_covs'\u001b[0m\u001b[1m]\u001b[0m                                                            \n",
      "\u001b[34mINFO    \u001b[0m Successfully registered anndata object containing \u001b[1;36m18641\u001b[0m cells, \u001b[1;36m1200\u001b[0m vars, \u001b[1;36m1\u001b[0m batches,\n",
      "         \u001b[1;36m1\u001b[0m labels, and \u001b[1;36m0\u001b[0m proteins. Also registered \u001b[1;36m2\u001b[0m extra categorical covariates and \u001b[1;36m2\u001b[0m extra\n",
      "         continuous covariates.                                                              \n",
      "\u001b[34mINFO    \u001b[0m Received view of anndata, making copy.                                              \n",
      "\u001b[34mINFO    \u001b[0m Received view of anndata, making copy.                                              \n",
      "\u001b[34mINFO    \u001b[0m Received view of anndata, making copy.                                              \n",
      "\u001b[34mINFO    \u001b[0m Using data from adata.layers\u001b[1m[\u001b[0m\u001b[32m\"counts\"\u001b[0m\u001b[1m]\u001b[0m                                              \n"
     ]
    },
    {
     "name": "stderr",
     "output_type": "stream",
     "text": [
      "/opt/conda/lib/python3.7/site-packages/ipykernel_launcher.py:79: VisibleDeprecationWarning: Creating an ndarray from ragged nested sequences (which is a list-or-tuple of lists-or-tuples-or ndarrays with different lengths or shapes) is deprecated. If you meant to do this, you must specify 'dtype=object' when creating the ndarray\n",
      "/opt/conda/lib/python3.7/site-packages/ipykernel_launcher.py:80: VisibleDeprecationWarning: Creating an ndarray from ragged nested sequences (which is a list-or-tuple of lists-or-tuples-or ndarrays with different lengths or shapes) is deprecated. If you meant to do this, you must specify 'dtype=object' when creating the ndarray\n"
     ]
    },
    {
     "name": "stdout",
     "output_type": "stream",
     "text": [
      "\u001b[34mINFO    \u001b[0m Computing library size prior per batch                                              \n",
      "\u001b[34mINFO    \u001b[0m Registered keys:\u001b[1m[\u001b[0m\u001b[32m'X'\u001b[0m, \u001b[32m'batch_indices'\u001b[0m, \u001b[32m'local_l_mean'\u001b[0m, \u001b[32m'local_l_var'\u001b[0m, \u001b[32m'labels'\u001b[0m,     \n",
      "         \u001b[32m'cat_covs'\u001b[0m, \u001b[32m'cont_covs'\u001b[0m\u001b[1m]\u001b[0m                                                            \n",
      "\u001b[34mINFO    \u001b[0m Successfully registered anndata object containing \u001b[1;36m18641\u001b[0m cells, \u001b[1;36m1200\u001b[0m vars, \u001b[1;36m1\u001b[0m batches,\n",
      "         \u001b[1;36m1\u001b[0m labels, and \u001b[1;36m0\u001b[0m proteins. Also registered \u001b[1;36m2\u001b[0m extra categorical covariates and \u001b[1;36m2\u001b[0m extra\n",
      "         continuous covariates.                                                              \n",
      "\u001b[34mINFO    \u001b[0m Received view of anndata, making copy.                                              \n",
      "\u001b[34mINFO    \u001b[0m Received view of anndata, making copy.                                              \n",
      "\u001b[34mINFO    \u001b[0m Received view of anndata, making copy.                                              \n"
     ]
    },
    {
     "name": "stderr",
     "output_type": "stream",
     "text": [
      "/opt/conda/lib/python3.7/site-packages/ipykernel_launcher.py:79: VisibleDeprecationWarning: Creating an ndarray from ragged nested sequences (which is a list-or-tuple of lists-or-tuples-or ndarrays with different lengths or shapes) is deprecated. If you meant to do this, you must specify 'dtype=object' when creating the ndarray\n",
      "/opt/conda/lib/python3.7/site-packages/ipykernel_launcher.py:80: VisibleDeprecationWarning: Creating an ndarray from ragged nested sequences (which is a list-or-tuple of lists-or-tuples-or ndarrays with different lengths or shapes) is deprecated. If you meant to do this, you must specify 'dtype=object' when creating the ndarray\n"
     ]
    },
    {
     "name": "stdout",
     "output_type": "stream",
     "text": [
      "\u001b[34mINFO    \u001b[0m Using data from adata.layers\u001b[1m[\u001b[0m\u001b[32m\"counts\"\u001b[0m\u001b[1m]\u001b[0m                                              \n",
      "\u001b[34mINFO    \u001b[0m Computing library size prior per batch                                              \n",
      "\u001b[34mINFO    \u001b[0m Registered keys:\u001b[1m[\u001b[0m\u001b[32m'X'\u001b[0m, \u001b[32m'batch_indices'\u001b[0m, \u001b[32m'local_l_mean'\u001b[0m, \u001b[32m'local_l_var'\u001b[0m, \u001b[32m'labels'\u001b[0m,     \n",
      "         \u001b[32m'cat_covs'\u001b[0m, \u001b[32m'cont_covs'\u001b[0m\u001b[1m]\u001b[0m                                                            \n",
      "\u001b[34mINFO    \u001b[0m Successfully registered anndata object containing \u001b[1;36m18641\u001b[0m cells, \u001b[1;36m1200\u001b[0m vars, \u001b[1;36m1\u001b[0m batches,\n",
      "         \u001b[1;36m1\u001b[0m labels, and \u001b[1;36m0\u001b[0m proteins. Also registered \u001b[1;36m2\u001b[0m extra categorical covariates and \u001b[1;36m2\u001b[0m extra\n",
      "         continuous covariates.                                                              \n",
      "\u001b[34mINFO    \u001b[0m Received view of anndata, making copy.                                              \n",
      "\u001b[34mINFO    \u001b[0m Received view of anndata, making copy.                                              \n",
      "\u001b[34mINFO    \u001b[0m Received view of anndata, making copy.                                              \n"
     ]
    },
    {
     "name": "stderr",
     "output_type": "stream",
     "text": [
      "/opt/conda/lib/python3.7/site-packages/ipykernel_launcher.py:79: VisibleDeprecationWarning: Creating an ndarray from ragged nested sequences (which is a list-or-tuple of lists-or-tuples-or ndarrays with different lengths or shapes) is deprecated. If you meant to do this, you must specify 'dtype=object' when creating the ndarray\n",
      "/opt/conda/lib/python3.7/site-packages/ipykernel_launcher.py:80: VisibleDeprecationWarning: Creating an ndarray from ragged nested sequences (which is a list-or-tuple of lists-or-tuples-or ndarrays with different lengths or shapes) is deprecated. If you meant to do this, you must specify 'dtype=object' when creating the ndarray\n"
     ]
    },
    {
     "name": "stdout",
     "output_type": "stream",
     "text": [
      "\u001b[34mINFO    \u001b[0m Using data from adata.layers\u001b[1m[\u001b[0m\u001b[32m\"counts\"\u001b[0m\u001b[1m]\u001b[0m                                              \n",
      "\u001b[34mINFO    \u001b[0m Computing library size prior per batch                                              \n",
      "\u001b[34mINFO    \u001b[0m Registered keys:\u001b[1m[\u001b[0m\u001b[32m'X'\u001b[0m, \u001b[32m'batch_indices'\u001b[0m, \u001b[32m'local_l_mean'\u001b[0m, \u001b[32m'local_l_var'\u001b[0m, \u001b[32m'labels'\u001b[0m,     \n",
      "         \u001b[32m'cat_covs'\u001b[0m, \u001b[32m'cont_covs'\u001b[0m\u001b[1m]\u001b[0m                                                            \n",
      "\u001b[34mINFO    \u001b[0m Successfully registered anndata object containing \u001b[1;36m18641\u001b[0m cells, \u001b[1;36m1200\u001b[0m vars, \u001b[1;36m1\u001b[0m batches,\n",
      "         \u001b[1;36m1\u001b[0m labels, and \u001b[1;36m0\u001b[0m proteins. Also registered \u001b[1;36m2\u001b[0m extra categorical covariates and \u001b[1;36m2\u001b[0m extra\n",
      "         continuous covariates.                                                              \n",
      "\u001b[34mINFO    \u001b[0m Received view of anndata, making copy.                                              \n",
      "\u001b[34mINFO    \u001b[0m Received view of anndata, making copy.                                              \n",
      "\u001b[34mINFO    \u001b[0m Received view of anndata, making copy.                                              \n"
     ]
    },
    {
     "name": "stderr",
     "output_type": "stream",
     "text": [
      "/opt/conda/lib/python3.7/site-packages/ipykernel_launcher.py:79: VisibleDeprecationWarning: Creating an ndarray from ragged nested sequences (which is a list-or-tuple of lists-or-tuples-or ndarrays with different lengths or shapes) is deprecated. If you meant to do this, you must specify 'dtype=object' when creating the ndarray\n",
      "/opt/conda/lib/python3.7/site-packages/ipykernel_launcher.py:80: VisibleDeprecationWarning: Creating an ndarray from ragged nested sequences (which is a list-or-tuple of lists-or-tuples-or ndarrays with different lengths or shapes) is deprecated. If you meant to do this, you must specify 'dtype=object' when creating the ndarray\n"
     ]
    },
    {
     "name": "stdout",
     "output_type": "stream",
     "text": [
      "\u001b[34mINFO    \u001b[0m Using data from adata.layers\u001b[1m[\u001b[0m\u001b[32m\"counts\"\u001b[0m\u001b[1m]\u001b[0m                                              \n",
      "\u001b[34mINFO    \u001b[0m Computing library size prior per batch                                              \n",
      "\u001b[34mINFO    \u001b[0m Registered keys:\u001b[1m[\u001b[0m\u001b[32m'X'\u001b[0m, \u001b[32m'batch_indices'\u001b[0m, \u001b[32m'local_l_mean'\u001b[0m, \u001b[32m'local_l_var'\u001b[0m, \u001b[32m'labels'\u001b[0m,     \n",
      "         \u001b[32m'cat_covs'\u001b[0m, \u001b[32m'cont_covs'\u001b[0m\u001b[1m]\u001b[0m                                                            \n",
      "\u001b[34mINFO    \u001b[0m Successfully registered anndata object containing \u001b[1;36m18641\u001b[0m cells, \u001b[1;36m1200\u001b[0m vars, \u001b[1;36m1\u001b[0m batches,\n",
      "         \u001b[1;36m1\u001b[0m labels, and \u001b[1;36m0\u001b[0m proteins. Also registered \u001b[1;36m2\u001b[0m extra categorical covariates and \u001b[1;36m2\u001b[0m extra\n",
      "         continuous covariates.                                                              \n",
      "\u001b[34mINFO    \u001b[0m Received view of anndata, making copy.                                              \n",
      "\u001b[34mINFO    \u001b[0m Received view of anndata, making copy.                                              \n",
      "\u001b[34mINFO    \u001b[0m Received view of anndata, making copy.                                              \n"
     ]
    },
    {
     "name": "stderr",
     "output_type": "stream",
     "text": [
      "/opt/conda/lib/python3.7/site-packages/ipykernel_launcher.py:79: VisibleDeprecationWarning: Creating an ndarray from ragged nested sequences (which is a list-or-tuple of lists-or-tuples-or ndarrays with different lengths or shapes) is deprecated. If you meant to do this, you must specify 'dtype=object' when creating the ndarray\n",
      "/opt/conda/lib/python3.7/site-packages/ipykernel_launcher.py:80: VisibleDeprecationWarning: Creating an ndarray from ragged nested sequences (which is a list-or-tuple of lists-or-tuples-or ndarrays with different lengths or shapes) is deprecated. If you meant to do this, you must specify 'dtype=object' when creating the ndarray\n"
     ]
    },
    {
     "name": "stdout",
     "output_type": "stream",
     "text": [
      "\u001b[34mINFO    \u001b[0m Using data from adata.layers\u001b[1m[\u001b[0m\u001b[32m\"counts\"\u001b[0m\u001b[1m]\u001b[0m                                              \n",
      "\u001b[34mINFO    \u001b[0m Computing library size prior per batch                                              \n",
      "\u001b[34mINFO    \u001b[0m Registered keys:\u001b[1m[\u001b[0m\u001b[32m'X'\u001b[0m, \u001b[32m'batch_indices'\u001b[0m, \u001b[32m'local_l_mean'\u001b[0m, \u001b[32m'local_l_var'\u001b[0m, \u001b[32m'labels'\u001b[0m,     \n",
      "         \u001b[32m'cat_covs'\u001b[0m, \u001b[32m'cont_covs'\u001b[0m\u001b[1m]\u001b[0m                                                            \n",
      "\u001b[34mINFO    \u001b[0m Successfully registered anndata object containing \u001b[1;36m18641\u001b[0m cells, \u001b[1;36m1200\u001b[0m vars, \u001b[1;36m1\u001b[0m batches,\n",
      "         \u001b[1;36m1\u001b[0m labels, and \u001b[1;36m0\u001b[0m proteins. Also registered \u001b[1;36m2\u001b[0m extra categorical covariates and \u001b[1;36m2\u001b[0m extra\n",
      "         continuous covariates.                                                              \n",
      "\u001b[34mINFO    \u001b[0m Received view of anndata, making copy.                                              \n",
      "\u001b[34mINFO    \u001b[0m Received view of anndata, making copy.                                              \n",
      "\u001b[34mINFO    \u001b[0m Received view of anndata, making copy.                                              \n"
     ]
    },
    {
     "name": "stderr",
     "output_type": "stream",
     "text": [
      "/opt/conda/lib/python3.7/site-packages/ipykernel_launcher.py:79: VisibleDeprecationWarning: Creating an ndarray from ragged nested sequences (which is a list-or-tuple of lists-or-tuples-or ndarrays with different lengths or shapes) is deprecated. If you meant to do this, you must specify 'dtype=object' when creating the ndarray\n",
      "/opt/conda/lib/python3.7/site-packages/ipykernel_launcher.py:80: VisibleDeprecationWarning: Creating an ndarray from ragged nested sequences (which is a list-or-tuple of lists-or-tuples-or ndarrays with different lengths or shapes) is deprecated. If you meant to do this, you must specify 'dtype=object' when creating the ndarray\n"
     ]
    },
    {
     "name": "stdout",
     "output_type": "stream",
     "text": [
      "\u001b[34mINFO    \u001b[0m Using data from adata.layers\u001b[1m[\u001b[0m\u001b[32m\"counts\"\u001b[0m\u001b[1m]\u001b[0m                                              \n",
      "\u001b[34mINFO    \u001b[0m Computing library size prior per batch                                              \n",
      "\u001b[34mINFO    \u001b[0m Registered keys:\u001b[1m[\u001b[0m\u001b[32m'X'\u001b[0m, \u001b[32m'batch_indices'\u001b[0m, \u001b[32m'local_l_mean'\u001b[0m, \u001b[32m'local_l_var'\u001b[0m, \u001b[32m'labels'\u001b[0m,     \n",
      "         \u001b[32m'cat_covs'\u001b[0m, \u001b[32m'cont_covs'\u001b[0m\u001b[1m]\u001b[0m                                                            \n",
      "\u001b[34mINFO    \u001b[0m Successfully registered anndata object containing \u001b[1;36m18641\u001b[0m cells, \u001b[1;36m1200\u001b[0m vars, \u001b[1;36m1\u001b[0m batches,\n",
      "         \u001b[1;36m1\u001b[0m labels, and \u001b[1;36m0\u001b[0m proteins. Also registered \u001b[1;36m2\u001b[0m extra categorical covariates and \u001b[1;36m2\u001b[0m extra\n",
      "         continuous covariates.                                                              \n",
      "\u001b[34mINFO    \u001b[0m Received view of anndata, making copy.                                              \n",
      "\u001b[34mINFO    \u001b[0m Received view of anndata, making copy.                                              \n",
      "\u001b[34mINFO    \u001b[0m Received view of anndata, making copy.                                              \n"
     ]
    },
    {
     "name": "stderr",
     "output_type": "stream",
     "text": [
      "/opt/conda/lib/python3.7/site-packages/ipykernel_launcher.py:79: VisibleDeprecationWarning: Creating an ndarray from ragged nested sequences (which is a list-or-tuple of lists-or-tuples-or ndarrays with different lengths or shapes) is deprecated. If you meant to do this, you must specify 'dtype=object' when creating the ndarray\n",
      "/opt/conda/lib/python3.7/site-packages/ipykernel_launcher.py:80: VisibleDeprecationWarning: Creating an ndarray from ragged nested sequences (which is a list-or-tuple of lists-or-tuples-or ndarrays with different lengths or shapes) is deprecated. If you meant to do this, you must specify 'dtype=object' when creating the ndarray\n"
     ]
    },
    {
     "name": "stdout",
     "output_type": "stream",
     "text": [
      "\u001b[34mINFO    \u001b[0m Using data from adata.layers\u001b[1m[\u001b[0m\u001b[32m\"counts\"\u001b[0m\u001b[1m]\u001b[0m                                              \n",
      "\u001b[34mINFO    \u001b[0m Computing library size prior per batch                                              \n",
      "\u001b[34mINFO    \u001b[0m Registered keys:\u001b[1m[\u001b[0m\u001b[32m'X'\u001b[0m, \u001b[32m'batch_indices'\u001b[0m, \u001b[32m'local_l_mean'\u001b[0m, \u001b[32m'local_l_var'\u001b[0m, \u001b[32m'labels'\u001b[0m,     \n",
      "         \u001b[32m'cat_covs'\u001b[0m, \u001b[32m'cont_covs'\u001b[0m\u001b[1m]\u001b[0m                                                            \n",
      "\u001b[34mINFO    \u001b[0m Successfully registered anndata object containing \u001b[1;36m18641\u001b[0m cells, \u001b[1;36m1200\u001b[0m vars, \u001b[1;36m1\u001b[0m batches,\n",
      "         \u001b[1;36m1\u001b[0m labels, and \u001b[1;36m0\u001b[0m proteins. Also registered \u001b[1;36m2\u001b[0m extra categorical covariates and \u001b[1;36m2\u001b[0m extra\n",
      "         continuous covariates.                                                              \n",
      "\u001b[34mINFO    \u001b[0m Received view of anndata, making copy.                                              \n",
      "\u001b[34mINFO    \u001b[0m Received view of anndata, making copy.                                              \n",
      "\u001b[34mINFO    \u001b[0m Received view of anndata, making copy.                                              \n"
     ]
    },
    {
     "name": "stderr",
     "output_type": "stream",
     "text": [
      "/opt/conda/lib/python3.7/site-packages/ipykernel_launcher.py:79: VisibleDeprecationWarning: Creating an ndarray from ragged nested sequences (which is a list-or-tuple of lists-or-tuples-or ndarrays with different lengths or shapes) is deprecated. If you meant to do this, you must specify 'dtype=object' when creating the ndarray\n",
      "/opt/conda/lib/python3.7/site-packages/ipykernel_launcher.py:80: VisibleDeprecationWarning: Creating an ndarray from ragged nested sequences (which is a list-or-tuple of lists-or-tuples-or ndarrays with different lengths or shapes) is deprecated. If you meant to do this, you must specify 'dtype=object' when creating the ndarray\n"
     ]
    },
    {
     "name": "stdout",
     "output_type": "stream",
     "text": [
      "\u001b[34mINFO    \u001b[0m Using data from adata.layers\u001b[1m[\u001b[0m\u001b[32m\"counts\"\u001b[0m\u001b[1m]\u001b[0m                                              \n",
      "\u001b[34mINFO    \u001b[0m Computing library size prior per batch                                              \n",
      "\u001b[34mINFO    \u001b[0m Registered keys:\u001b[1m[\u001b[0m\u001b[32m'X'\u001b[0m, \u001b[32m'batch_indices'\u001b[0m, \u001b[32m'local_l_mean'\u001b[0m, \u001b[32m'local_l_var'\u001b[0m, \u001b[32m'labels'\u001b[0m,     \n",
      "         \u001b[32m'cat_covs'\u001b[0m, \u001b[32m'cont_covs'\u001b[0m\u001b[1m]\u001b[0m                                                            \n",
      "\u001b[34mINFO    \u001b[0m Successfully registered anndata object containing \u001b[1;36m18641\u001b[0m cells, \u001b[1;36m1200\u001b[0m vars, \u001b[1;36m1\u001b[0m batches,\n",
      "         \u001b[1;36m1\u001b[0m labels, and \u001b[1;36m0\u001b[0m proteins. Also registered \u001b[1;36m2\u001b[0m extra categorical covariates and \u001b[1;36m2\u001b[0m extra\n",
      "         continuous covariates.                                                              \n",
      "\u001b[34mINFO    \u001b[0m Received view of anndata, making copy.                                              \n",
      "\u001b[34mINFO    \u001b[0m Received view of anndata, making copy.                                              \n",
      "\u001b[34mINFO    \u001b[0m Received view of anndata, making copy.                                              \n"
     ]
    },
    {
     "name": "stderr",
     "output_type": "stream",
     "text": [
      "/opt/conda/lib/python3.7/site-packages/ipykernel_launcher.py:79: VisibleDeprecationWarning: Creating an ndarray from ragged nested sequences (which is a list-or-tuple of lists-or-tuples-or ndarrays with different lengths or shapes) is deprecated. If you meant to do this, you must specify 'dtype=object' when creating the ndarray\n",
      "/opt/conda/lib/python3.7/site-packages/ipykernel_launcher.py:80: VisibleDeprecationWarning: Creating an ndarray from ragged nested sequences (which is a list-or-tuple of lists-or-tuples-or ndarrays with different lengths or shapes) is deprecated. If you meant to do this, you must specify 'dtype=object' when creating the ndarray\n"
     ]
    },
    {
     "name": "stdout",
     "output_type": "stream",
     "text": [
      "\u001b[34mINFO    \u001b[0m Using data from adata.layers\u001b[1m[\u001b[0m\u001b[32m\"counts\"\u001b[0m\u001b[1m]\u001b[0m                                              \n",
      "\u001b[34mINFO    \u001b[0m Computing library size prior per batch                                              \n",
      "\u001b[34mINFO    \u001b[0m Registered keys:\u001b[1m[\u001b[0m\u001b[32m'X'\u001b[0m, \u001b[32m'batch_indices'\u001b[0m, \u001b[32m'local_l_mean'\u001b[0m, \u001b[32m'local_l_var'\u001b[0m, \u001b[32m'labels'\u001b[0m,     \n",
      "         \u001b[32m'cat_covs'\u001b[0m, \u001b[32m'cont_covs'\u001b[0m\u001b[1m]\u001b[0m                                                            \n",
      "\u001b[34mINFO    \u001b[0m Successfully registered anndata object containing \u001b[1;36m18641\u001b[0m cells, \u001b[1;36m1200\u001b[0m vars, \u001b[1;36m1\u001b[0m batches,\n",
      "         \u001b[1;36m1\u001b[0m labels, and \u001b[1;36m0\u001b[0m proteins. Also registered \u001b[1;36m2\u001b[0m extra categorical covariates and \u001b[1;36m2\u001b[0m extra\n",
      "         continuous covariates.                                                              \n",
      "\u001b[34mINFO    \u001b[0m Received view of anndata, making copy.                                              \n",
      "\u001b[34mINFO    \u001b[0m Received view of anndata, making copy.                                              \n",
      "\u001b[34mINFO    \u001b[0m Received view of anndata, making copy.                                              \n"
     ]
    },
    {
     "name": "stderr",
     "output_type": "stream",
     "text": [
      "/opt/conda/lib/python3.7/site-packages/ipykernel_launcher.py:79: VisibleDeprecationWarning: Creating an ndarray from ragged nested sequences (which is a list-or-tuple of lists-or-tuples-or ndarrays with different lengths or shapes) is deprecated. If you meant to do this, you must specify 'dtype=object' when creating the ndarray\n",
      "/opt/conda/lib/python3.7/site-packages/ipykernel_launcher.py:80: VisibleDeprecationWarning: Creating an ndarray from ragged nested sequences (which is a list-or-tuple of lists-or-tuples-or ndarrays with different lengths or shapes) is deprecated. If you meant to do this, you must specify 'dtype=object' when creating the ndarray\n"
     ]
    },
    {
     "name": "stdout",
     "output_type": "stream",
     "text": [
      "\u001b[34mINFO    \u001b[0m Using data from adata.layers\u001b[1m[\u001b[0m\u001b[32m\"counts\"\u001b[0m\u001b[1m]\u001b[0m                                              \n",
      "\u001b[34mINFO    \u001b[0m Computing library size prior per batch                                              \n",
      "\u001b[34mINFO    \u001b[0m Registered keys:\u001b[1m[\u001b[0m\u001b[32m'X'\u001b[0m, \u001b[32m'batch_indices'\u001b[0m, \u001b[32m'local_l_mean'\u001b[0m, \u001b[32m'local_l_var'\u001b[0m, \u001b[32m'labels'\u001b[0m,     \n",
      "         \u001b[32m'cat_covs'\u001b[0m, \u001b[32m'cont_covs'\u001b[0m\u001b[1m]\u001b[0m                                                            \n",
      "\u001b[34mINFO    \u001b[0m Successfully registered anndata object containing \u001b[1;36m18641\u001b[0m cells, \u001b[1;36m1200\u001b[0m vars, \u001b[1;36m1\u001b[0m batches,\n",
      "         \u001b[1;36m1\u001b[0m labels, and \u001b[1;36m0\u001b[0m proteins. Also registered \u001b[1;36m2\u001b[0m extra categorical covariates and \u001b[1;36m2\u001b[0m extra\n",
      "         continuous covariates.                                                              \n",
      "\u001b[34mINFO    \u001b[0m Received view of anndata, making copy.                                              \n",
      "\u001b[34mINFO    \u001b[0m Received view of anndata, making copy.                                              \n",
      "\u001b[34mINFO    \u001b[0m Received view of anndata, making copy.                                              \n"
     ]
    },
    {
     "name": "stderr",
     "output_type": "stream",
     "text": [
      "/opt/conda/lib/python3.7/site-packages/ipykernel_launcher.py:79: VisibleDeprecationWarning: Creating an ndarray from ragged nested sequences (which is a list-or-tuple of lists-or-tuples-or ndarrays with different lengths or shapes) is deprecated. If you meant to do this, you must specify 'dtype=object' when creating the ndarray\n",
      "/opt/conda/lib/python3.7/site-packages/ipykernel_launcher.py:80: VisibleDeprecationWarning: Creating an ndarray from ragged nested sequences (which is a list-or-tuple of lists-or-tuples-or ndarrays with different lengths or shapes) is deprecated. If you meant to do this, you must specify 'dtype=object' when creating the ndarray\n"
     ]
    },
    {
     "name": "stdout",
     "output_type": "stream",
     "text": [
      "\u001b[34mINFO    \u001b[0m Using data from adata.layers\u001b[1m[\u001b[0m\u001b[32m\"counts\"\u001b[0m\u001b[1m]\u001b[0m                                              \n",
      "\u001b[34mINFO    \u001b[0m Computing library size prior per batch                                              \n",
      "\u001b[34mINFO    \u001b[0m Registered keys:\u001b[1m[\u001b[0m\u001b[32m'X'\u001b[0m, \u001b[32m'batch_indices'\u001b[0m, \u001b[32m'local_l_mean'\u001b[0m, \u001b[32m'local_l_var'\u001b[0m, \u001b[32m'labels'\u001b[0m,     \n",
      "         \u001b[32m'cat_covs'\u001b[0m, \u001b[32m'cont_covs'\u001b[0m\u001b[1m]\u001b[0m                                                            \n",
      "\u001b[34mINFO    \u001b[0m Successfully registered anndata object containing \u001b[1;36m18641\u001b[0m cells, \u001b[1;36m1200\u001b[0m vars, \u001b[1;36m1\u001b[0m batches,\n",
      "         \u001b[1;36m1\u001b[0m labels, and \u001b[1;36m0\u001b[0m proteins. Also registered \u001b[1;36m2\u001b[0m extra categorical covariates and \u001b[1;36m2\u001b[0m extra\n",
      "         continuous covariates.                                                              \n",
      "\u001b[34mINFO    \u001b[0m Received view of anndata, making copy.                                              \n",
      "\u001b[34mINFO    \u001b[0m Received view of anndata, making copy.                                              \n",
      "\u001b[34mINFO    \u001b[0m Received view of anndata, making copy.                                              \n"
     ]
    },
    {
     "name": "stderr",
     "output_type": "stream",
     "text": [
      "/opt/conda/lib/python3.7/site-packages/ipykernel_launcher.py:79: VisibleDeprecationWarning: Creating an ndarray from ragged nested sequences (which is a list-or-tuple of lists-or-tuples-or ndarrays with different lengths or shapes) is deprecated. If you meant to do this, you must specify 'dtype=object' when creating the ndarray\n",
      "/opt/conda/lib/python3.7/site-packages/ipykernel_launcher.py:80: VisibleDeprecationWarning: Creating an ndarray from ragged nested sequences (which is a list-or-tuple of lists-or-tuples-or ndarrays with different lengths or shapes) is deprecated. If you meant to do this, you must specify 'dtype=object' when creating the ndarray\n"
     ]
    },
    {
     "name": "stdout",
     "output_type": "stream",
     "text": [
      "\u001b[34mINFO    \u001b[0m Using data from adata.layers\u001b[1m[\u001b[0m\u001b[32m\"counts\"\u001b[0m\u001b[1m]\u001b[0m                                              \n",
      "\u001b[34mINFO    \u001b[0m Computing library size prior per batch                                              \n",
      "\u001b[34mINFO    \u001b[0m Registered keys:\u001b[1m[\u001b[0m\u001b[32m'X'\u001b[0m, \u001b[32m'batch_indices'\u001b[0m, \u001b[32m'local_l_mean'\u001b[0m, \u001b[32m'local_l_var'\u001b[0m, \u001b[32m'labels'\u001b[0m,     \n",
      "         \u001b[32m'cat_covs'\u001b[0m, \u001b[32m'cont_covs'\u001b[0m\u001b[1m]\u001b[0m                                                            \n",
      "\u001b[34mINFO    \u001b[0m Successfully registered anndata object containing \u001b[1;36m18641\u001b[0m cells, \u001b[1;36m1200\u001b[0m vars, \u001b[1;36m1\u001b[0m batches,\n",
      "         \u001b[1;36m1\u001b[0m labels, and \u001b[1;36m0\u001b[0m proteins. Also registered \u001b[1;36m2\u001b[0m extra categorical covariates and \u001b[1;36m2\u001b[0m extra\n",
      "         continuous covariates.                                                              \n",
      "\u001b[34mINFO    \u001b[0m Received view of anndata, making copy.                                              \n",
      "\u001b[34mINFO    \u001b[0m Received view of anndata, making copy.                                              \n",
      "\u001b[34mINFO    \u001b[0m Received view of anndata, making copy.                                              \n"
     ]
    },
    {
     "name": "stderr",
     "output_type": "stream",
     "text": [
      "/opt/conda/lib/python3.7/site-packages/ipykernel_launcher.py:79: VisibleDeprecationWarning: Creating an ndarray from ragged nested sequences (which is a list-or-tuple of lists-or-tuples-or ndarrays with different lengths or shapes) is deprecated. If you meant to do this, you must specify 'dtype=object' when creating the ndarray\n",
      "/opt/conda/lib/python3.7/site-packages/ipykernel_launcher.py:80: VisibleDeprecationWarning: Creating an ndarray from ragged nested sequences (which is a list-or-tuple of lists-or-tuples-or ndarrays with different lengths or shapes) is deprecated. If you meant to do this, you must specify 'dtype=object' when creating the ndarray\n"
     ]
    },
    {
     "name": "stdout",
     "output_type": "stream",
     "text": [
      "\u001b[34mINFO    \u001b[0m Using data from adata.layers\u001b[1m[\u001b[0m\u001b[32m\"counts\"\u001b[0m\u001b[1m]\u001b[0m                                              \n",
      "\u001b[34mINFO    \u001b[0m Computing library size prior per batch                                              \n",
      "\u001b[34mINFO    \u001b[0m Registered keys:\u001b[1m[\u001b[0m\u001b[32m'X'\u001b[0m, \u001b[32m'batch_indices'\u001b[0m, \u001b[32m'local_l_mean'\u001b[0m, \u001b[32m'local_l_var'\u001b[0m, \u001b[32m'labels'\u001b[0m,     \n",
      "         \u001b[32m'cat_covs'\u001b[0m, \u001b[32m'cont_covs'\u001b[0m\u001b[1m]\u001b[0m                                                            \n",
      "\u001b[34mINFO    \u001b[0m Successfully registered anndata object containing \u001b[1;36m18641\u001b[0m cells, \u001b[1;36m1200\u001b[0m vars, \u001b[1;36m1\u001b[0m batches,\n",
      "         \u001b[1;36m1\u001b[0m labels, and \u001b[1;36m0\u001b[0m proteins. Also registered \u001b[1;36m2\u001b[0m extra categorical covariates and \u001b[1;36m2\u001b[0m extra\n",
      "         continuous covariates.                                                              \n",
      "\u001b[34mINFO    \u001b[0m Received view of anndata, making copy.                                              \n",
      "\u001b[34mINFO    \u001b[0m Received view of anndata, making copy.                                              \n",
      "\u001b[34mINFO    \u001b[0m Received view of anndata, making copy.                                              \n"
     ]
    },
    {
     "name": "stderr",
     "output_type": "stream",
     "text": [
      "/opt/conda/lib/python3.7/site-packages/ipykernel_launcher.py:79: VisibleDeprecationWarning: Creating an ndarray from ragged nested sequences (which is a list-or-tuple of lists-or-tuples-or ndarrays with different lengths or shapes) is deprecated. If you meant to do this, you must specify 'dtype=object' when creating the ndarray\n",
      "/opt/conda/lib/python3.7/site-packages/ipykernel_launcher.py:80: VisibleDeprecationWarning: Creating an ndarray from ragged nested sequences (which is a list-or-tuple of lists-or-tuples-or ndarrays with different lengths or shapes) is deprecated. If you meant to do this, you must specify 'dtype=object' when creating the ndarray\n"
     ]
    },
    {
     "name": "stdout",
     "output_type": "stream",
     "text": [
      "\u001b[34mINFO    \u001b[0m Using data from adata.layers\u001b[1m[\u001b[0m\u001b[32m\"counts\"\u001b[0m\u001b[1m]\u001b[0m                                              \n",
      "\u001b[34mINFO    \u001b[0m Computing library size prior per batch                                              \n",
      "\u001b[34mINFO    \u001b[0m Registered keys:\u001b[1m[\u001b[0m\u001b[32m'X'\u001b[0m, \u001b[32m'batch_indices'\u001b[0m, \u001b[32m'local_l_mean'\u001b[0m, \u001b[32m'local_l_var'\u001b[0m, \u001b[32m'labels'\u001b[0m,     \n",
      "         \u001b[32m'cat_covs'\u001b[0m, \u001b[32m'cont_covs'\u001b[0m\u001b[1m]\u001b[0m                                                            \n",
      "\u001b[34mINFO    \u001b[0m Successfully registered anndata object containing \u001b[1;36m18641\u001b[0m cells, \u001b[1;36m1200\u001b[0m vars, \u001b[1;36m1\u001b[0m batches,\n",
      "         \u001b[1;36m1\u001b[0m labels, and \u001b[1;36m0\u001b[0m proteins. Also registered \u001b[1;36m2\u001b[0m extra categorical covariates and \u001b[1;36m2\u001b[0m extra\n",
      "         continuous covariates.                                                              \n",
      "\u001b[34mINFO    \u001b[0m Received view of anndata, making copy.                                              \n",
      "\u001b[34mINFO    \u001b[0m Received view of anndata, making copy.                                              \n",
      "\u001b[34mINFO    \u001b[0m Received view of anndata, making copy.                                              \n"
     ]
    },
    {
     "name": "stderr",
     "output_type": "stream",
     "text": [
      "/opt/conda/lib/python3.7/site-packages/ipykernel_launcher.py:79: VisibleDeprecationWarning: Creating an ndarray from ragged nested sequences (which is a list-or-tuple of lists-or-tuples-or ndarrays with different lengths or shapes) is deprecated. If you meant to do this, you must specify 'dtype=object' when creating the ndarray\n",
      "/opt/conda/lib/python3.7/site-packages/ipykernel_launcher.py:80: VisibleDeprecationWarning: Creating an ndarray from ragged nested sequences (which is a list-or-tuple of lists-or-tuples-or ndarrays with different lengths or shapes) is deprecated. If you meant to do this, you must specify 'dtype=object' when creating the ndarray\n"
     ]
    },
    {
     "name": "stdout",
     "output_type": "stream",
     "text": [
      "\u001b[34mINFO    \u001b[0m Using data from adata.layers\u001b[1m[\u001b[0m\u001b[32m\"counts\"\u001b[0m\u001b[1m]\u001b[0m                                              \n",
      "\u001b[34mINFO    \u001b[0m Computing library size prior per batch                                              \n",
      "\u001b[34mINFO    \u001b[0m Registered keys:\u001b[1m[\u001b[0m\u001b[32m'X'\u001b[0m, \u001b[32m'batch_indices'\u001b[0m, \u001b[32m'local_l_mean'\u001b[0m, \u001b[32m'local_l_var'\u001b[0m, \u001b[32m'labels'\u001b[0m,     \n",
      "         \u001b[32m'cat_covs'\u001b[0m, \u001b[32m'cont_covs'\u001b[0m\u001b[1m]\u001b[0m                                                            \n",
      "\u001b[34mINFO    \u001b[0m Successfully registered anndata object containing \u001b[1;36m18641\u001b[0m cells, \u001b[1;36m1200\u001b[0m vars, \u001b[1;36m1\u001b[0m batches,\n",
      "         \u001b[1;36m1\u001b[0m labels, and \u001b[1;36m0\u001b[0m proteins. Also registered \u001b[1;36m2\u001b[0m extra categorical covariates and \u001b[1;36m2\u001b[0m extra\n",
      "         continuous covariates.                                                              \n",
      "\u001b[34mINFO    \u001b[0m Received view of anndata, making copy.                                              \n",
      "\u001b[34mINFO    \u001b[0m Received view of anndata, making copy.                                              \n",
      "\u001b[34mINFO    \u001b[0m Received view of anndata, making copy.                                              \n"
     ]
    },
    {
     "name": "stderr",
     "output_type": "stream",
     "text": [
      "/opt/conda/lib/python3.7/site-packages/ipykernel_launcher.py:79: VisibleDeprecationWarning: Creating an ndarray from ragged nested sequences (which is a list-or-tuple of lists-or-tuples-or ndarrays with different lengths or shapes) is deprecated. If you meant to do this, you must specify 'dtype=object' when creating the ndarray\n",
      "/opt/conda/lib/python3.7/site-packages/ipykernel_launcher.py:80: VisibleDeprecationWarning: Creating an ndarray from ragged nested sequences (which is a list-or-tuple of lists-or-tuples-or ndarrays with different lengths or shapes) is deprecated. If you meant to do this, you must specify 'dtype=object' when creating the ndarray\n"
     ]
    },
    {
     "name": "stdout",
     "output_type": "stream",
     "text": [
      "\u001b[34mINFO    \u001b[0m Using data from adata.layers\u001b[1m[\u001b[0m\u001b[32m\"counts\"\u001b[0m\u001b[1m]\u001b[0m                                              \n",
      "\u001b[34mINFO    \u001b[0m Computing library size prior per batch                                              \n",
      "\u001b[34mINFO    \u001b[0m Registered keys:\u001b[1m[\u001b[0m\u001b[32m'X'\u001b[0m, \u001b[32m'batch_indices'\u001b[0m, \u001b[32m'local_l_mean'\u001b[0m, \u001b[32m'local_l_var'\u001b[0m, \u001b[32m'labels'\u001b[0m,     \n",
      "         \u001b[32m'cat_covs'\u001b[0m, \u001b[32m'cont_covs'\u001b[0m\u001b[1m]\u001b[0m                                                            \n",
      "\u001b[34mINFO    \u001b[0m Successfully registered anndata object containing \u001b[1;36m18641\u001b[0m cells, \u001b[1;36m1200\u001b[0m vars, \u001b[1;36m1\u001b[0m batches,\n",
      "         \u001b[1;36m1\u001b[0m labels, and \u001b[1;36m0\u001b[0m proteins. Also registered \u001b[1;36m2\u001b[0m extra categorical covariates and \u001b[1;36m2\u001b[0m extra\n",
      "         continuous covariates.                                                              \n",
      "\u001b[34mINFO    \u001b[0m Received view of anndata, making copy.                                              \n",
      "\u001b[34mINFO    \u001b[0m Received view of anndata, making copy.                                              \n",
      "\u001b[34mINFO    \u001b[0m Received view of anndata, making copy.                                              \n"
     ]
    },
    {
     "name": "stderr",
     "output_type": "stream",
     "text": [
      "/opt/conda/lib/python3.7/site-packages/ipykernel_launcher.py:79: VisibleDeprecationWarning: Creating an ndarray from ragged nested sequences (which is a list-or-tuple of lists-or-tuples-or ndarrays with different lengths or shapes) is deprecated. If you meant to do this, you must specify 'dtype=object' when creating the ndarray\n",
      "/opt/conda/lib/python3.7/site-packages/ipykernel_launcher.py:80: VisibleDeprecationWarning: Creating an ndarray from ragged nested sequences (which is a list-or-tuple of lists-or-tuples-or ndarrays with different lengths or shapes) is deprecated. If you meant to do this, you must specify 'dtype=object' when creating the ndarray\n"
     ]
    },
    {
     "name": "stdout",
     "output_type": "stream",
     "text": [
      "\u001b[34mINFO    \u001b[0m Using data from adata.layers\u001b[1m[\u001b[0m\u001b[32m\"counts\"\u001b[0m\u001b[1m]\u001b[0m                                              \n",
      "\u001b[34mINFO    \u001b[0m Computing library size prior per batch                                              \n",
      "\u001b[34mINFO    \u001b[0m Registered keys:\u001b[1m[\u001b[0m\u001b[32m'X'\u001b[0m, \u001b[32m'batch_indices'\u001b[0m, \u001b[32m'local_l_mean'\u001b[0m, \u001b[32m'local_l_var'\u001b[0m, \u001b[32m'labels'\u001b[0m,     \n",
      "         \u001b[32m'cat_covs'\u001b[0m, \u001b[32m'cont_covs'\u001b[0m\u001b[1m]\u001b[0m                                                            \n",
      "\u001b[34mINFO    \u001b[0m Successfully registered anndata object containing \u001b[1;36m18641\u001b[0m cells, \u001b[1;36m1200\u001b[0m vars, \u001b[1;36m1\u001b[0m batches,\n",
      "         \u001b[1;36m1\u001b[0m labels, and \u001b[1;36m0\u001b[0m proteins. Also registered \u001b[1;36m2\u001b[0m extra categorical covariates and \u001b[1;36m2\u001b[0m extra\n",
      "         continuous covariates.                                                              \n",
      "\u001b[34mINFO    \u001b[0m Received view of anndata, making copy.                                              \n",
      "\u001b[34mINFO    \u001b[0m Received view of anndata, making copy.                                              \n",
      "\u001b[34mINFO    \u001b[0m Received view of anndata, making copy.                                              \n"
     ]
    },
    {
     "name": "stderr",
     "output_type": "stream",
     "text": [
      "/opt/conda/lib/python3.7/site-packages/ipykernel_launcher.py:79: VisibleDeprecationWarning: Creating an ndarray from ragged nested sequences (which is a list-or-tuple of lists-or-tuples-or ndarrays with different lengths or shapes) is deprecated. If you meant to do this, you must specify 'dtype=object' when creating the ndarray\n",
      "/opt/conda/lib/python3.7/site-packages/ipykernel_launcher.py:80: VisibleDeprecationWarning: Creating an ndarray from ragged nested sequences (which is a list-or-tuple of lists-or-tuples-or ndarrays with different lengths or shapes) is deprecated. If you meant to do this, you must specify 'dtype=object' when creating the ndarray\n"
     ]
    },
    {
     "name": "stdout",
     "output_type": "stream",
     "text": [
      "\u001b[34mINFO    \u001b[0m Using data from adata.layers\u001b[1m[\u001b[0m\u001b[32m\"counts\"\u001b[0m\u001b[1m]\u001b[0m                                              \n",
      "\u001b[34mINFO    \u001b[0m Computing library size prior per batch                                              \n",
      "\u001b[34mINFO    \u001b[0m Registered keys:\u001b[1m[\u001b[0m\u001b[32m'X'\u001b[0m, \u001b[32m'batch_indices'\u001b[0m, \u001b[32m'local_l_mean'\u001b[0m, \u001b[32m'local_l_var'\u001b[0m, \u001b[32m'labels'\u001b[0m,     \n",
      "         \u001b[32m'cat_covs'\u001b[0m, \u001b[32m'cont_covs'\u001b[0m\u001b[1m]\u001b[0m                                                            \n",
      "\u001b[34mINFO    \u001b[0m Successfully registered anndata object containing \u001b[1;36m18641\u001b[0m cells, \u001b[1;36m1200\u001b[0m vars, \u001b[1;36m1\u001b[0m batches,\n",
      "         \u001b[1;36m1\u001b[0m labels, and \u001b[1;36m0\u001b[0m proteins. Also registered \u001b[1;36m2\u001b[0m extra categorical covariates and \u001b[1;36m2\u001b[0m extra\n",
      "         continuous covariates.                                                              \n",
      "\u001b[34mINFO    \u001b[0m Received view of anndata, making copy.                                              \n",
      "\u001b[34mINFO    \u001b[0m Received view of anndata, making copy.                                              \n",
      "\u001b[34mINFO    \u001b[0m Received view of anndata, making copy.                                              \n"
     ]
    },
    {
     "name": "stderr",
     "output_type": "stream",
     "text": [
      "/opt/conda/lib/python3.7/site-packages/ipykernel_launcher.py:79: VisibleDeprecationWarning: Creating an ndarray from ragged nested sequences (which is a list-or-tuple of lists-or-tuples-or ndarrays with different lengths or shapes) is deprecated. If you meant to do this, you must specify 'dtype=object' when creating the ndarray\n",
      "/opt/conda/lib/python3.7/site-packages/ipykernel_launcher.py:80: VisibleDeprecationWarning: Creating an ndarray from ragged nested sequences (which is a list-or-tuple of lists-or-tuples-or ndarrays with different lengths or shapes) is deprecated. If you meant to do this, you must specify 'dtype=object' when creating the ndarray\n"
     ]
    },
    {
     "name": "stdout",
     "output_type": "stream",
     "text": [
      "\u001b[34mINFO    \u001b[0m Using data from adata.layers\u001b[1m[\u001b[0m\u001b[32m\"counts\"\u001b[0m\u001b[1m]\u001b[0m                                              \n",
      "\u001b[34mINFO    \u001b[0m Computing library size prior per batch                                              \n",
      "\u001b[34mINFO    \u001b[0m Registered keys:\u001b[1m[\u001b[0m\u001b[32m'X'\u001b[0m, \u001b[32m'batch_indices'\u001b[0m, \u001b[32m'local_l_mean'\u001b[0m, \u001b[32m'local_l_var'\u001b[0m, \u001b[32m'labels'\u001b[0m,     \n",
      "         \u001b[32m'cat_covs'\u001b[0m, \u001b[32m'cont_covs'\u001b[0m\u001b[1m]\u001b[0m                                                            \n",
      "\u001b[34mINFO    \u001b[0m Successfully registered anndata object containing \u001b[1;36m18641\u001b[0m cells, \u001b[1;36m1200\u001b[0m vars, \u001b[1;36m1\u001b[0m batches,\n",
      "         \u001b[1;36m1\u001b[0m labels, and \u001b[1;36m0\u001b[0m proteins. Also registered \u001b[1;36m2\u001b[0m extra categorical covariates and \u001b[1;36m2\u001b[0m extra\n",
      "         continuous covariates.                                                              \n",
      "\u001b[34mINFO    \u001b[0m Received view of anndata, making copy.                                              \n",
      "\u001b[34mINFO    \u001b[0m Received view of anndata, making copy.                                              \n",
      "\u001b[34mINFO    \u001b[0m Received view of anndata, making copy.                                              \n"
     ]
    },
    {
     "name": "stderr",
     "output_type": "stream",
     "text": [
      "/opt/conda/lib/python3.7/site-packages/ipykernel_launcher.py:79: VisibleDeprecationWarning: Creating an ndarray from ragged nested sequences (which is a list-or-tuple of lists-or-tuples-or ndarrays with different lengths or shapes) is deprecated. If you meant to do this, you must specify 'dtype=object' when creating the ndarray\n",
      "/opt/conda/lib/python3.7/site-packages/ipykernel_launcher.py:80: VisibleDeprecationWarning: Creating an ndarray from ragged nested sequences (which is a list-or-tuple of lists-or-tuples-or ndarrays with different lengths or shapes) is deprecated. If you meant to do this, you must specify 'dtype=object' when creating the ndarray\n"
     ]
    },
    {
     "name": "stdout",
     "output_type": "stream",
     "text": [
      "\u001b[34mINFO    \u001b[0m Using data from adata.layers\u001b[1m[\u001b[0m\u001b[32m\"counts\"\u001b[0m\u001b[1m]\u001b[0m                                              \n",
      "\u001b[34mINFO    \u001b[0m Computing library size prior per batch                                              \n",
      "\u001b[34mINFO    \u001b[0m Registered keys:\u001b[1m[\u001b[0m\u001b[32m'X'\u001b[0m, \u001b[32m'batch_indices'\u001b[0m, \u001b[32m'local_l_mean'\u001b[0m, \u001b[32m'local_l_var'\u001b[0m, \u001b[32m'labels'\u001b[0m,     \n",
      "         \u001b[32m'cat_covs'\u001b[0m, \u001b[32m'cont_covs'\u001b[0m\u001b[1m]\u001b[0m                                                            \n",
      "\u001b[34mINFO    \u001b[0m Successfully registered anndata object containing \u001b[1;36m18641\u001b[0m cells, \u001b[1;36m1200\u001b[0m vars, \u001b[1;36m1\u001b[0m batches,\n",
      "         \u001b[1;36m1\u001b[0m labels, and \u001b[1;36m0\u001b[0m proteins. Also registered \u001b[1;36m2\u001b[0m extra categorical covariates and \u001b[1;36m2\u001b[0m extra\n",
      "         continuous covariates.                                                              \n",
      "\u001b[34mINFO    \u001b[0m Received view of anndata, making copy.                                              \n",
      "\u001b[34mINFO    \u001b[0m Received view of anndata, making copy.                                              \n",
      "\u001b[34mINFO    \u001b[0m Received view of anndata, making copy.                                              \n"
     ]
    },
    {
     "name": "stderr",
     "output_type": "stream",
     "text": [
      "/opt/conda/lib/python3.7/site-packages/ipykernel_launcher.py:79: VisibleDeprecationWarning: Creating an ndarray from ragged nested sequences (which is a list-or-tuple of lists-or-tuples-or ndarrays with different lengths or shapes) is deprecated. If you meant to do this, you must specify 'dtype=object' when creating the ndarray\n",
      "/opt/conda/lib/python3.7/site-packages/ipykernel_launcher.py:80: VisibleDeprecationWarning: Creating an ndarray from ragged nested sequences (which is a list-or-tuple of lists-or-tuples-or ndarrays with different lengths or shapes) is deprecated. If you meant to do this, you must specify 'dtype=object' when creating the ndarray\n"
     ]
    },
    {
     "name": "stdout",
     "output_type": "stream",
     "text": [
      "\u001b[34mINFO    \u001b[0m Using data from adata.layers\u001b[1m[\u001b[0m\u001b[32m\"counts\"\u001b[0m\u001b[1m]\u001b[0m                                              \n",
      "\u001b[34mINFO    \u001b[0m Computing library size prior per batch                                              \n",
      "\u001b[34mINFO    \u001b[0m Registered keys:\u001b[1m[\u001b[0m\u001b[32m'X'\u001b[0m, \u001b[32m'batch_indices'\u001b[0m, \u001b[32m'local_l_mean'\u001b[0m, \u001b[32m'local_l_var'\u001b[0m, \u001b[32m'labels'\u001b[0m,     \n",
      "         \u001b[32m'cat_covs'\u001b[0m, \u001b[32m'cont_covs'\u001b[0m\u001b[1m]\u001b[0m                                                            \n",
      "\u001b[34mINFO    \u001b[0m Successfully registered anndata object containing \u001b[1;36m18641\u001b[0m cells, \u001b[1;36m1200\u001b[0m vars, \u001b[1;36m1\u001b[0m batches,\n",
      "         \u001b[1;36m1\u001b[0m labels, and \u001b[1;36m0\u001b[0m proteins. Also registered \u001b[1;36m2\u001b[0m extra categorical covariates and \u001b[1;36m2\u001b[0m extra\n",
      "         continuous covariates.                                                              \n",
      "\u001b[34mINFO    \u001b[0m Received view of anndata, making copy.                                              \n",
      "\u001b[34mINFO    \u001b[0m Received view of anndata, making copy.                                              \n",
      "\u001b[34mINFO    \u001b[0m Received view of anndata, making copy.                                              \n"
     ]
    },
    {
     "name": "stderr",
     "output_type": "stream",
     "text": [
      "/opt/conda/lib/python3.7/site-packages/ipykernel_launcher.py:79: VisibleDeprecationWarning: Creating an ndarray from ragged nested sequences (which is a list-or-tuple of lists-or-tuples-or ndarrays with different lengths or shapes) is deprecated. If you meant to do this, you must specify 'dtype=object' when creating the ndarray\n",
      "/opt/conda/lib/python3.7/site-packages/ipykernel_launcher.py:80: VisibleDeprecationWarning: Creating an ndarray from ragged nested sequences (which is a list-or-tuple of lists-or-tuples-or ndarrays with different lengths or shapes) is deprecated. If you meant to do this, you must specify 'dtype=object' when creating the ndarray\n"
     ]
    },
    {
     "name": "stdout",
     "output_type": "stream",
     "text": [
      "\u001b[34mINFO    \u001b[0m Using data from adata.layers\u001b[1m[\u001b[0m\u001b[32m\"counts\"\u001b[0m\u001b[1m]\u001b[0m                                              \n",
      "\u001b[34mINFO    \u001b[0m Computing library size prior per batch                                              \n",
      "\u001b[34mINFO    \u001b[0m Registered keys:\u001b[1m[\u001b[0m\u001b[32m'X'\u001b[0m, \u001b[32m'batch_indices'\u001b[0m, \u001b[32m'local_l_mean'\u001b[0m, \u001b[32m'local_l_var'\u001b[0m, \u001b[32m'labels'\u001b[0m,     \n",
      "         \u001b[32m'cat_covs'\u001b[0m, \u001b[32m'cont_covs'\u001b[0m\u001b[1m]\u001b[0m                                                            \n",
      "\u001b[34mINFO    \u001b[0m Successfully registered anndata object containing \u001b[1;36m18641\u001b[0m cells, \u001b[1;36m1200\u001b[0m vars, \u001b[1;36m1\u001b[0m batches,\n",
      "         \u001b[1;36m1\u001b[0m labels, and \u001b[1;36m0\u001b[0m proteins. Also registered \u001b[1;36m2\u001b[0m extra categorical covariates and \u001b[1;36m2\u001b[0m extra\n",
      "         continuous covariates.                                                              \n",
      "\u001b[34mINFO    \u001b[0m Received view of anndata, making copy.                                              \n",
      "\u001b[34mINFO    \u001b[0m Received view of anndata, making copy.                                              \n",
      "\u001b[34mINFO    \u001b[0m Received view of anndata, making copy.                                              \n"
     ]
    },
    {
     "name": "stderr",
     "output_type": "stream",
     "text": [
      "/opt/conda/lib/python3.7/site-packages/ipykernel_launcher.py:79: VisibleDeprecationWarning: Creating an ndarray from ragged nested sequences (which is a list-or-tuple of lists-or-tuples-or ndarrays with different lengths or shapes) is deprecated. If you meant to do this, you must specify 'dtype=object' when creating the ndarray\n",
      "/opt/conda/lib/python3.7/site-packages/ipykernel_launcher.py:80: VisibleDeprecationWarning: Creating an ndarray from ragged nested sequences (which is a list-or-tuple of lists-or-tuples-or ndarrays with different lengths or shapes) is deprecated. If you meant to do this, you must specify 'dtype=object' when creating the ndarray\n"
     ]
    },
    {
     "name": "stdout",
     "output_type": "stream",
     "text": [
      "\u001b[34mINFO    \u001b[0m Using data from adata.layers\u001b[1m[\u001b[0m\u001b[32m\"counts\"\u001b[0m\u001b[1m]\u001b[0m                                              \n",
      "\u001b[34mINFO    \u001b[0m Computing library size prior per batch                                              \n",
      "\u001b[34mINFO    \u001b[0m Registered keys:\u001b[1m[\u001b[0m\u001b[32m'X'\u001b[0m, \u001b[32m'batch_indices'\u001b[0m, \u001b[32m'local_l_mean'\u001b[0m, \u001b[32m'local_l_var'\u001b[0m, \u001b[32m'labels'\u001b[0m,     \n",
      "         \u001b[32m'cat_covs'\u001b[0m, \u001b[32m'cont_covs'\u001b[0m\u001b[1m]\u001b[0m                                                            \n",
      "\u001b[34mINFO    \u001b[0m Successfully registered anndata object containing \u001b[1;36m18641\u001b[0m cells, \u001b[1;36m1200\u001b[0m vars, \u001b[1;36m1\u001b[0m batches,\n",
      "         \u001b[1;36m1\u001b[0m labels, and \u001b[1;36m0\u001b[0m proteins. Also registered \u001b[1;36m2\u001b[0m extra categorical covariates and \u001b[1;36m2\u001b[0m extra\n",
      "         continuous covariates.                                                              \n",
      "\u001b[34mINFO    \u001b[0m Received view of anndata, making copy.                                              \n",
      "\u001b[34mINFO    \u001b[0m Received view of anndata, making copy.                                              \n",
      "\u001b[34mINFO    \u001b[0m Received view of anndata, making copy.                                              \n"
     ]
    },
    {
     "name": "stderr",
     "output_type": "stream",
     "text": [
      "/opt/conda/lib/python3.7/site-packages/ipykernel_launcher.py:79: VisibleDeprecationWarning: Creating an ndarray from ragged nested sequences (which is a list-or-tuple of lists-or-tuples-or ndarrays with different lengths or shapes) is deprecated. If you meant to do this, you must specify 'dtype=object' when creating the ndarray\n",
      "/opt/conda/lib/python3.7/site-packages/ipykernel_launcher.py:80: VisibleDeprecationWarning: Creating an ndarray from ragged nested sequences (which is a list-or-tuple of lists-or-tuples-or ndarrays with different lengths or shapes) is deprecated. If you meant to do this, you must specify 'dtype=object' when creating the ndarray\n"
     ]
    },
    {
     "name": "stdout",
     "output_type": "stream",
     "text": [
      "\u001b[34mINFO    \u001b[0m Using data from adata.layers\u001b[1m[\u001b[0m\u001b[32m\"counts\"\u001b[0m\u001b[1m]\u001b[0m                                              \n",
      "\u001b[34mINFO    \u001b[0m Computing library size prior per batch                                              \n",
      "\u001b[34mINFO    \u001b[0m Registered keys:\u001b[1m[\u001b[0m\u001b[32m'X'\u001b[0m, \u001b[32m'batch_indices'\u001b[0m, \u001b[32m'local_l_mean'\u001b[0m, \u001b[32m'local_l_var'\u001b[0m, \u001b[32m'labels'\u001b[0m,     \n",
      "         \u001b[32m'cat_covs'\u001b[0m, \u001b[32m'cont_covs'\u001b[0m\u001b[1m]\u001b[0m                                                            \n",
      "\u001b[34mINFO    \u001b[0m Successfully registered anndata object containing \u001b[1;36m18641\u001b[0m cells, \u001b[1;36m1200\u001b[0m vars, \u001b[1;36m1\u001b[0m batches,\n",
      "         \u001b[1;36m1\u001b[0m labels, and \u001b[1;36m0\u001b[0m proteins. Also registered \u001b[1;36m2\u001b[0m extra categorical covariates and \u001b[1;36m2\u001b[0m extra\n",
      "         continuous covariates.                                                              \n",
      "\u001b[34mINFO    \u001b[0m Received view of anndata, making copy.                                              \n",
      "\u001b[34mINFO    \u001b[0m Received view of anndata, making copy.                                              \n",
      "\u001b[34mINFO    \u001b[0m Received view of anndata, making copy.                                              \n"
     ]
    },
    {
     "name": "stderr",
     "output_type": "stream",
     "text": [
      "/opt/conda/lib/python3.7/site-packages/ipykernel_launcher.py:79: VisibleDeprecationWarning: Creating an ndarray from ragged nested sequences (which is a list-or-tuple of lists-or-tuples-or ndarrays with different lengths or shapes) is deprecated. If you meant to do this, you must specify 'dtype=object' when creating the ndarray\n",
      "/opt/conda/lib/python3.7/site-packages/ipykernel_launcher.py:80: VisibleDeprecationWarning: Creating an ndarray from ragged nested sequences (which is a list-or-tuple of lists-or-tuples-or ndarrays with different lengths or shapes) is deprecated. If you meant to do this, you must specify 'dtype=object' when creating the ndarray\n"
     ]
    },
    {
     "name": "stdout",
     "output_type": "stream",
     "text": [
      "\u001b[34mINFO    \u001b[0m Using data from adata.layers\u001b[1m[\u001b[0m\u001b[32m\"counts\"\u001b[0m\u001b[1m]\u001b[0m                                              \n",
      "\u001b[34mINFO    \u001b[0m Computing library size prior per batch                                              \n",
      "\u001b[34mINFO    \u001b[0m Registered keys:\u001b[1m[\u001b[0m\u001b[32m'X'\u001b[0m, \u001b[32m'batch_indices'\u001b[0m, \u001b[32m'local_l_mean'\u001b[0m, \u001b[32m'local_l_var'\u001b[0m, \u001b[32m'labels'\u001b[0m,     \n",
      "         \u001b[32m'cat_covs'\u001b[0m, \u001b[32m'cont_covs'\u001b[0m\u001b[1m]\u001b[0m                                                            \n",
      "\u001b[34mINFO    \u001b[0m Successfully registered anndata object containing \u001b[1;36m18641\u001b[0m cells, \u001b[1;36m1200\u001b[0m vars, \u001b[1;36m1\u001b[0m batches,\n",
      "         \u001b[1;36m1\u001b[0m labels, and \u001b[1;36m0\u001b[0m proteins. Also registered \u001b[1;36m2\u001b[0m extra categorical covariates and \u001b[1;36m2\u001b[0m extra\n",
      "         continuous covariates.                                                              \n",
      "\u001b[34mINFO    \u001b[0m Received view of anndata, making copy.                                              \n",
      "\u001b[34mINFO    \u001b[0m Received view of anndata, making copy.                                              \n",
      "\u001b[34mINFO    \u001b[0m Received view of anndata, making copy.                                              \n"
     ]
    },
    {
     "name": "stderr",
     "output_type": "stream",
     "text": [
      "/opt/conda/lib/python3.7/site-packages/ipykernel_launcher.py:79: VisibleDeprecationWarning: Creating an ndarray from ragged nested sequences (which is a list-or-tuple of lists-or-tuples-or ndarrays with different lengths or shapes) is deprecated. If you meant to do this, you must specify 'dtype=object' when creating the ndarray\n",
      "/opt/conda/lib/python3.7/site-packages/ipykernel_launcher.py:80: VisibleDeprecationWarning: Creating an ndarray from ragged nested sequences (which is a list-or-tuple of lists-or-tuples-or ndarrays with different lengths or shapes) is deprecated. If you meant to do this, you must specify 'dtype=object' when creating the ndarray\n"
     ]
    },
    {
     "name": "stdout",
     "output_type": "stream",
     "text": [
      "\u001b[34mINFO    \u001b[0m Using data from adata.layers\u001b[1m[\u001b[0m\u001b[32m\"counts\"\u001b[0m\u001b[1m]\u001b[0m                                              \n",
      "\u001b[34mINFO    \u001b[0m Computing library size prior per batch                                              \n",
      "\u001b[34mINFO    \u001b[0m Registered keys:\u001b[1m[\u001b[0m\u001b[32m'X'\u001b[0m, \u001b[32m'batch_indices'\u001b[0m, \u001b[32m'local_l_mean'\u001b[0m, \u001b[32m'local_l_var'\u001b[0m, \u001b[32m'labels'\u001b[0m,     \n",
      "         \u001b[32m'cat_covs'\u001b[0m, \u001b[32m'cont_covs'\u001b[0m\u001b[1m]\u001b[0m                                                            \n",
      "\u001b[34mINFO    \u001b[0m Successfully registered anndata object containing \u001b[1;36m18641\u001b[0m cells, \u001b[1;36m1200\u001b[0m vars, \u001b[1;36m1\u001b[0m batches,\n",
      "         \u001b[1;36m1\u001b[0m labels, and \u001b[1;36m0\u001b[0m proteins. Also registered \u001b[1;36m2\u001b[0m extra categorical covariates and \u001b[1;36m2\u001b[0m extra\n",
      "         continuous covariates.                                                              \n",
      "\u001b[34mINFO    \u001b[0m Received view of anndata, making copy.                                              \n",
      "\u001b[34mINFO    \u001b[0m Received view of anndata, making copy.                                              \n",
      "\u001b[34mINFO    \u001b[0m Received view of anndata, making copy.                                              \n"
     ]
    },
    {
     "name": "stderr",
     "output_type": "stream",
     "text": [
      "/opt/conda/lib/python3.7/site-packages/ipykernel_launcher.py:79: VisibleDeprecationWarning: Creating an ndarray from ragged nested sequences (which is a list-or-tuple of lists-or-tuples-or ndarrays with different lengths or shapes) is deprecated. If you meant to do this, you must specify 'dtype=object' when creating the ndarray\n",
      "/opt/conda/lib/python3.7/site-packages/ipykernel_launcher.py:80: VisibleDeprecationWarning: Creating an ndarray from ragged nested sequences (which is a list-or-tuple of lists-or-tuples-or ndarrays with different lengths or shapes) is deprecated. If you meant to do this, you must specify 'dtype=object' when creating the ndarray\n"
     ]
    },
    {
     "name": "stdout",
     "output_type": "stream",
     "text": [
      "\u001b[34mINFO    \u001b[0m Using data from adata.layers\u001b[1m[\u001b[0m\u001b[32m\"counts\"\u001b[0m\u001b[1m]\u001b[0m                                              \n",
      "\u001b[34mINFO    \u001b[0m Computing library size prior per batch                                              \n",
      "\u001b[34mINFO    \u001b[0m Registered keys:\u001b[1m[\u001b[0m\u001b[32m'X'\u001b[0m, \u001b[32m'batch_indices'\u001b[0m, \u001b[32m'local_l_mean'\u001b[0m, \u001b[32m'local_l_var'\u001b[0m, \u001b[32m'labels'\u001b[0m,     \n",
      "         \u001b[32m'cat_covs'\u001b[0m, \u001b[32m'cont_covs'\u001b[0m\u001b[1m]\u001b[0m                                                            \n",
      "\u001b[34mINFO    \u001b[0m Successfully registered anndata object containing \u001b[1;36m18641\u001b[0m cells, \u001b[1;36m1200\u001b[0m vars, \u001b[1;36m1\u001b[0m batches,\n",
      "         \u001b[1;36m1\u001b[0m labels, and \u001b[1;36m0\u001b[0m proteins. Also registered \u001b[1;36m2\u001b[0m extra categorical covariates and \u001b[1;36m2\u001b[0m extra\n",
      "         continuous covariates.                                                              \n",
      "\u001b[34mINFO    \u001b[0m Received view of anndata, making copy.                                              \n",
      "\u001b[34mINFO    \u001b[0m Received view of anndata, making copy.                                              \n",
      "\u001b[34mINFO    \u001b[0m Received view of anndata, making copy.                                              \n"
     ]
    },
    {
     "name": "stderr",
     "output_type": "stream",
     "text": [
      "/opt/conda/lib/python3.7/site-packages/ipykernel_launcher.py:79: VisibleDeprecationWarning: Creating an ndarray from ragged nested sequences (which is a list-or-tuple of lists-or-tuples-or ndarrays with different lengths or shapes) is deprecated. If you meant to do this, you must specify 'dtype=object' when creating the ndarray\n",
      "/opt/conda/lib/python3.7/site-packages/ipykernel_launcher.py:80: VisibleDeprecationWarning: Creating an ndarray from ragged nested sequences (which is a list-or-tuple of lists-or-tuples-or ndarrays with different lengths or shapes) is deprecated. If you meant to do this, you must specify 'dtype=object' when creating the ndarray\n"
     ]
    }
   ],
   "source": [
    "# now loop to fill in each matrix with all models' data\n",
    "mD = []\n",
    "sD = []\n",
    "mG = []\n",
    "sG = []\n",
    "mP = []\n",
    "sP = []\n",
    "mT = []\n",
    "sT = []\n",
    "mM = []\n",
    "sM = []\n",
    "mA = []\n",
    "sA = []\n",
    "mCD1= []\n",
    "sCD1= []\n",
    "mC1= []\n",
    "sC1= []\n",
    "mCD6= []\n",
    "sCD6= []\n",
    "\n",
    "for i in range(1, 37):\n",
    "    DCN = []\n",
    "    GSN = []\n",
    "    PDGFRA = []\n",
    "    MYH11 = []\n",
    "    ACTA2= []\n",
    "    CD14 = []\n",
    "    C1QA = []\n",
    "    CD68 = []\n",
    "    \n",
    "    model = scvi.model.SCVI.load(\"my_model\" + str(i) + \"/\", adata, use_gpu=False)\n",
    "    latent = model.get_latent_representation()\n",
    "    adata.obsm[\"X_scVI\"] = latent\n",
    "    adata.layers[\"scvi_normalized\"] = model.get_normalized_expression(\n",
    "        library_size=10e4\n",
    "    )\n",
    "\n",
    "    fibroblast = adata[adata.obs.cell_type == \"Fibroblast\"]\n",
    "    smooth = adata[adata.obs.cell_type == \"Smooth_muscle_cells\"]\n",
    "    myeloid = adata[adata.obs.cell_type == \"Myeloid\"]\n",
    "    f = model.get_normalized_expression(fibroblast, return_mean=False)\n",
    "    s = model.get_normalized_expression(smooth, return_mean=False)\n",
    "    m = model.get_normalized_expression(myeloid, return_mean=False)\n",
    "    \n",
    "    for i in range(0, len(f[\"DCN\"])): \n",
    "        DCN.append(f[\"DCN\"][i])\n",
    "    for i in range(0, len(f[\"GSN\"])): \n",
    "        GSN.append(f[\"GSN\"][i])\n",
    "    for i in range(0, len(f[\"PDGFRA\"])): \n",
    "        PDGFRA.append(f[\"PDGFRA\"][i])\n",
    "    \n",
    "    for i in range(0, len(s[\"MYH11\"])): \n",
    "        MYH11.append(s[\"MYH11\"][i])\n",
    "    for i in range(0, len(s[\"TAGLN\"])): \n",
    "        TAGLN.append(s[\"TAGLN\"][i])\n",
    "    for i in range(0, len(s[\"ACTA2\"])): \n",
    "        ACTA2.append(s[\"ACTA2\"][i])\n",
    "    \n",
    "    for i in range(0, len(m[\"CD14\"])): \n",
    "        CD14.append(m[\"CD14\"][i])\n",
    "    for i in range(0, len(m[\"C1QA\"])): \n",
    "        C1QA.append(m[\"C1QA\"][i])\n",
    "    for i in range(0, len(m[\"CD68\"])): \n",
    "        CD68.append(m[\"CD68\"][i])\n",
    "        \n",
    "    #calculate mean/sd across all cells in each run and add to respective scatters\n",
    "    mCD6.append(np.mean(np.array(CD68)))\n",
    "    sCD6.append(np.std(np.array(CD68)))\n",
    "    mCD1.append(np.mean(np.array(CD14)))\n",
    "    sCD1.append(np.std(np.array(CD14)))\n",
    "    mC1.append(np.mean(np.array(C1QA)))\n",
    "    sC1.append(np.std(np.array(C1QA)))\n",
    "    mD.append(np.mean(np.array(DCN)))\n",
    "    sD.append(np.std(np.array(DCN)))\n",
    "    mM.append(np.mean(np.array(MYH11)))\n",
    "    sM.append(np.std(np.array(MYH11)))\n",
    "    mA.append(np.mean(np.array(ACTA2)))\n",
    "    sA.append(np.std(np.array(ACTA2)))\n",
    "    mT.append(np.mean(np.array(TAGLN)))\n",
    "    sT.append(np.std(np.array(TAGLN)))\n",
    "    mG.append(np.mean(np.array(GSN)))\n",
    "    sG.append(np.std(np.array(GSN)))\n",
    "    mP.append(np.mean(np.array(PDGFRA)))\n",
    "    sP.append(np.std(np.array(PDGFRA)))\n",
    "    \n",
    "                   \n",
    "    \n"
   ]
  },
  {
   "cell_type": "code",
   "execution_count": 36,
   "metadata": {},
   "outputs": [
    {
     "data": {
      "image/png": "[encoded data removed]",
      "text/plain": [
       "<Figure size 320x320 with 1 Axes>"
      ]
     },
     "metadata": {
      "needs_background": "light"
     },
     "output_type": "display_data"
    },
    {
     "data": {
      "text/plain": [
       "<Figure size 320x320 with 0 Axes>"
      ]
     },
     "metadata": {},
     "output_type": "display_data"
    }
   ],
   "source": [
    "#biological heterogeneity\n",
    "import matplotlib.pyplot as plt \n",
    "plt.scatter(mD, sD)\n",
    "\n",
    "plt.title(\"DCN\")\n",
    "plt.ylabel(\"StDev\")\n",
    "plt.xlabel(\"Mean\")\n",
    "fig1 = plt.gcf()\n",
    "plt.show()\n",
    "plt.draw()\n",
    "fig1.savefig(\"DCN Bio.png\")"
   ]
  },
  {
   "cell_type": "code",
   "execution_count": 16,
   "metadata": {},
   "outputs": [],
   "source": [
    "#now calculate std, mean over 36 runs for each row of each matrix (x9)\n",
    "\n",
    "for i in range(0, len(GSN)):\n",
    "    GSN[i] = (np.mean(GSN[i]),np.std(GSN[i]))\n",
    "for i in range(0, len(DCN)):\n",
    "    DCN[i] = (np.mean(DCN[i]),np.std(DCN[i]))\n",
    "for i in range(0, len(PDGFRA)):\n",
    "    PDGFRA[i] = (np.mean(PDGFRA[i]),np.std(PDGFRA[i]))\n",
    "\n",
    "for i in range(0, len(MYH11)):\n",
    "    MYH11[i] = (np.mean(MYH11[i]),np.std(MYH11[i]))\n",
    "for i in range(0, len(TAGLN)):\n",
    "    TAGLN[i] = (np.mean(TAGLN[i]),np.std(TAGLN[i]))\n",
    "for i in range(0, len(ACTA2)):\n",
    "    ACTA2[i] = (np.mean(ACTA2[i]),np.std(ACTA2[i]))\n",
    "\n",
    "for i in range(0, len(CD14)):\n",
    "    CD14[i] = (np.mean(CD14[i]),np.std(CD14[i]))\n",
    "for i in range(0, len(C1QA)):\n",
    "    C1QA[i] = (np.mean(C1QA[i]),np.std(C1QA[i]))\n",
    "for i in range(0, len(CD68)):\n",
    "    CD68[i] = (np.mean(CD68[i]),np.std(CD68[i]))\n",
    "\n",
    "\n",
    "    "
   ]
  },
  {
   "cell_type": "code",
   "execution_count": 74,
   "metadata": {},
   "outputs": [],
   "source": [
    "#now plot the resulting mean v stdev for each \n",
    "means = []\n",
    "for i in range(0, len(CD68)):\n",
    "    means.append(CD68[i][0])\n",
    "stds = []\n",
    "for i in range(0, len(CD68)):\n",
    "    stds.append(CD68[i][1])\n",
    "\n",
    "\n"
   ]
  },
  {
   "cell_type": "code",
   "execution_count": 75,
   "metadata": {
    "collapsed": true,
    "jupyter": {
     "outputs_hidden": true
    }
   },
   "outputs": [
    {
     "name": "stdout",
     "output_type": "stream",
     "text": [
      "(957,)\n"
     ]
    },
    {
     "data": {
      "image/png": "[encoded data removed]",
      "text/plain": [
       "<Figure size 320x320 with 1 Axes>"
      ]
     },
     "metadata": {
      "needs_background": "light"
     },
     "output_type": "display_data"
    },
    {
     "data": {
      "text/plain": [
       "<Figure size 320x320 with 0 Axes>"
      ]
     },
     "metadata": {},
     "output_type": "display_data"
    }
   ],
   "source": [
    "import matplotlib.pyplot as plt \n",
    "from scipy.stats import gaussian_kde\n",
    "\n",
    "means = np.array(means)\n",
    "stds = np.array(stds)\n",
    "\n",
    "xy = np.vstack([means,stds])\n",
    "z = gaussian_kde(xy)(xy)\n",
    "print(z.shape)\n",
    "\n",
    "fig, ax = plt.subplots()\n",
    "ax.scatter(means, stds, s=50, c=z)\n",
    "\n",
    "plt.title(\"CD68\")\n",
    "plt.ylabel(\"StDev\")\n",
    "plt.xlabel(\"Mean\")\n",
    "fig1 = plt.gcf()\n",
    "plt.show()\n",
    "plt.draw()\n",
    "fig1.savefig(\"CD68.png\")\n",
    "#fig, ax = plt.subplots()\n",
    "#ax.scatter(means, stds, s=100, edgecolor='')\n",
    "#plt.show()"
   ]
  },
  {
   "cell_type": "code",
   "execution_count": null,
   "metadata": {},
   "outputs": [],
   "source": []
  },
  {
   "cell_type": "code",
   "execution_count": 20,
   "metadata": {},
   "outputs": [
    {
     "data": {
      "text/plain": [
       "'\"\\n#probably don\\'t load to CSV until all models\\n#have been filled and mean/std calculated\\n\\nimport csv\\nfrom csv import writer\\n \\nwith open(\\'valuesf.csv\\', \\'a\\') as f_object:\\n    writer_object = writer(f_object)\\n    writer_object.writerow(vecf)\\n    f_object.close()\\nwith open(\\'valuess.csv\\', \\'a\\') as f_object:\\n    writer_object = writer(f_object)\\n    writer_object.writerow(vecs)\\n    f_object.close()\\nwith open(\\'valuesm.csv\\', \\'a\\') as f_object:\\n    writer_object = writer(f_object)\\n    writer_object.writerow(vecm)\\n    f_object.close()\\n\\n    '"
      ]
     },
     "execution_count": 20,
     "metadata": {},
     "output_type": "execute_result"
    }
   ],
   "source": [
    "\"\"\"\"\n",
    "#probably don't load to CSV until all models\n",
    "#have been filled and mean/std calculated\n",
    "\n",
    "import csv\n",
    "from csv import writer\n",
    " \n",
    "with open('valuesf.csv', 'a') as f_object:\n",
    "    writer_object = writer(f_object)\n",
    "    writer_object.writerow(vecf)\n",
    "    f_object.close()\n",
    "with open('valuess.csv', 'a') as f_object:\n",
    "    writer_object = writer(f_object)\n",
    "    writer_object.writerow(vecs)\n",
    "    f_object.close()\n",
    "with open('valuesm.csv', 'a') as f_object:\n",
    "    writer_object = writer(f_object)\n",
    "    writer_object.writerow(vecm)\n",
    "    f_object.close()\n",
    "\n",
    "    \"\"\""
   ]
  },
  {
   "cell_type": "code",
   "execution_count": 399,
   "metadata": {
    "id": "cpihBg2gd70N"
   },
   "outputs": [],
   "source": [
    "#Fibroblast, smooth muscle, myeloid\n",
    "fibroblast = [\"DCN\", \"GSN\", \"PDGFRA\"]\n",
    "smooth = [\"MYH11\", \"TAGLN\", \"ACTA2\"]\n",
    "myeloid = [\"CD14\", \"C1QA\", \"CD68\"]"
   ]
  },
  {
   "cell_type": "markdown",
   "metadata": {
    "id": "1yDDpmrcZ0bs"
   },
   "source": [
    "## Differential expression\n",
    "We can also use many scvi-tools models for differential expression. For further details on the methods underlying these functions as well as additional options, please see TODO."
   ]
  },
  {
   "cell_type": "markdown",
   "metadata": {
    "id": "K9zGxVjkyW8i"
   },
   "source": [
    "For example, a 1-vs-1 DE test is as simple as:"
   ]
  },
  {
   "cell_type": "markdown",
   "metadata": {
    "id": "Sleqtm9gyn--"
   },
   "source": [
    "We can also do a 1-vs-all DE test, which compares each cell type with the rest of the dataset:"
   ]
  },
  {
   "cell_type": "markdown",
   "metadata": {
    "id": "LubZQGeG00A4"
   },
   "source": [
    "We now extract top markers for each cluster using the DE results."
   ]
  },
  {
   "cell_type": "markdown",
   "metadata": {
    "id": "0FOGu9jd6wGq"
   },
   "source": [
    "We can also visualize the scVI normalized gene expression values with the `layer` option."
   ]
  },
  {
   "cell_type": "code",
   "execution_count": 14,
   "metadata": {},
   "outputs": [
    {
     "data": {
      "text/plain": [
       "AACTCCCCACGAGAGT-1-HCAHeart7844001                      Myeloid\n",
       "ATAACGCAGAGCTGGT-1-HCAHeart7829979    Ventricular_Cardiomyocyte\n",
       "GTCAAGTCATGCCACG-1-HCAHeart7702879                   Fibroblast\n",
       "GGTGATTCAAATGAGT-1-HCAHeart8102858                  Endothelial\n",
       "AGAGAATTCTTAGCAG-1-HCAHeart8102863                  Endothelial\n",
       "Name: cell_type, dtype: category\n",
       "Categories (11, object): ['Adipocytes', 'Atrial_Cardiomyocyte', 'Endothelial', 'Fibroblast', ..., 'Neuronal', 'Pericytes', 'Smooth_muscle_cells', 'Ventricular_Cardiomyocyte']"
      ]
     },
     "execution_count": 14,
     "metadata": {},
     "output_type": "execute_result"
    }
   ],
   "source": [
    "#to corroborate markers\n",
    "adata.obs.cell_type.head()"
   ]
  },
  {
   "cell_type": "code",
   "execution_count": 16,
   "metadata": {},
   "outputs": [
    {
     "name": "stdout",
     "output_type": "stream",
     "text": [
      "DE...: 100%|██████████| 1/1 [00:03<00:00,  3.49s/it]\n"
     ]
    },
    {
     "data": {
      "text/html": [
       "<div>\n",
       "<style scoped>\n",
       "    .dataframe tbody tr th:only-of-type {\n",
       "        vertical-align: middle;\n",
       "    }\n",
       "\n",
       "    .dataframe tbody tr th {\n",
       "        vertical-align: top;\n",
       "    }\n",
       "\n",
       "    .dataframe thead th {\n",
       "        text-align: right;\n",
       "    }\n",
       "</style>\n",
       "<table border=\"1\" class=\"dataframe\">\n",
       "  <thead>\n",
       "    <tr style=\"text-align: right;\">\n",
       "      <th></th>\n",
       "      <th>proba_de</th>\n",
       "      <th>proba_not_de</th>\n",
       "      <th>bayes_factor</th>\n",
       "      <th>scale1</th>\n",
       "      <th>scale2</th>\n",
       "      <th>pseudocounts</th>\n",
       "      <th>delta</th>\n",
       "      <th>lfc_mean</th>\n",
       "      <th>lfc_median</th>\n",
       "      <th>lfc_std</th>\n",
       "      <th>lfc_min</th>\n",
       "      <th>lfc_max</th>\n",
       "      <th>raw_mean1</th>\n",
       "      <th>raw_mean2</th>\n",
       "      <th>non_zeros_proportion1</th>\n",
       "      <th>non_zeros_proportion2</th>\n",
       "      <th>raw_normalized_mean1</th>\n",
       "      <th>raw_normalized_mean2</th>\n",
       "      <th>is_de_fdr_0.05</th>\n",
       "      <th>comparison</th>\n",
       "    </tr>\n",
       "  </thead>\n",
       "  <tbody>\n",
       "    <tr>\n",
       "      <th>ACTA2</th>\n",
       "      <td>0.9998</td>\n",
       "      <td>0.0002</td>\n",
       "      <td>8.516943</td>\n",
       "      <td>0.000209</td>\n",
       "      <td>0.021659</td>\n",
       "      <td>0.0</td>\n",
       "      <td>0.25</td>\n",
       "      <td>-7.032821</td>\n",
       "      <td>-7.005724</td>\n",
       "      <td>1.961830</td>\n",
       "      <td>-13.479710</td>\n",
       "      <td>0.205027</td>\n",
       "      <td>0.074190</td>\n",
       "      <td>13.970368</td>\n",
       "      <td>0.065831</td>\n",
       "      <td>0.751950</td>\n",
       "      <td>2.114226</td>\n",
       "      <td>248.179764</td>\n",
       "      <td>True</td>\n",
       "      <td>Myeloid vs Smooth_muscle_cells</td>\n",
       "    </tr>\n",
       "    <tr>\n",
       "      <th>MS4A6A</th>\n",
       "      <td>0.9996</td>\n",
       "      <td>0.0004</td>\n",
       "      <td>7.823621</td>\n",
       "      <td>0.004653</td>\n",
       "      <td>0.000074</td>\n",
       "      <td>0.0</td>\n",
       "      <td>0.25</td>\n",
       "      <td>6.676530</td>\n",
       "      <td>6.593922</td>\n",
       "      <td>2.171337</td>\n",
       "      <td>-0.809321</td>\n",
       "      <td>13.737561</td>\n",
       "      <td>1.948803</td>\n",
       "      <td>0.004680</td>\n",
       "      <td>0.594566</td>\n",
       "      <td>0.004680</td>\n",
       "      <td>47.831718</td>\n",
       "      <td>0.304685</td>\n",
       "      <td>True</td>\n",
       "      <td>Myeloid vs Smooth_muscle_cells</td>\n",
       "    </tr>\n",
       "    <tr>\n",
       "      <th>MS4A4A</th>\n",
       "      <td>0.9994</td>\n",
       "      <td>0.0006</td>\n",
       "      <td>7.417964</td>\n",
       "      <td>0.001920</td>\n",
       "      <td>0.000034</td>\n",
       "      <td>0.0</td>\n",
       "      <td>0.25</td>\n",
       "      <td>6.389101</td>\n",
       "      <td>6.276639</td>\n",
       "      <td>2.315374</td>\n",
       "      <td>-1.344044</td>\n",
       "      <td>14.905746</td>\n",
       "      <td>0.899685</td>\n",
       "      <td>0.003120</td>\n",
       "      <td>0.381400</td>\n",
       "      <td>0.003120</td>\n",
       "      <td>19.409658</td>\n",
       "      <td>0.073182</td>\n",
       "      <td>True</td>\n",
       "      <td>Myeloid vs Smooth_muscle_cells</td>\n",
       "    </tr>\n",
       "    <tr>\n",
       "      <th>CALD1</th>\n",
       "      <td>0.9992</td>\n",
       "      <td>0.0008</td>\n",
       "      <td>7.130086</td>\n",
       "      <td>0.001422</td>\n",
       "      <td>0.022258</td>\n",
       "      <td>0.0</td>\n",
       "      <td>0.25</td>\n",
       "      <td>-4.332909</td>\n",
       "      <td>-4.359652</td>\n",
       "      <td>1.326091</td>\n",
       "      <td>-9.202156</td>\n",
       "      <td>0.178064</td>\n",
       "      <td>0.111808</td>\n",
       "      <td>8.237137</td>\n",
       "      <td>0.082550</td>\n",
       "      <td>0.900156</td>\n",
       "      <td>4.560734</td>\n",
       "      <td>242.169189</td>\n",
       "      <td>True</td>\n",
       "      <td>Myeloid vs Smooth_muscle_cells</td>\n",
       "    </tr>\n",
       "    <tr>\n",
       "      <th>IGFBP5</th>\n",
       "      <td>0.9990</td>\n",
       "      <td>0.0010</td>\n",
       "      <td>6.906745</td>\n",
       "      <td>0.000230</td>\n",
       "      <td>0.007490</td>\n",
       "      <td>0.0</td>\n",
       "      <td>0.25</td>\n",
       "      <td>-5.511497</td>\n",
       "      <td>-5.609962</td>\n",
       "      <td>1.846183</td>\n",
       "      <td>-12.000252</td>\n",
       "      <td>1.952321</td>\n",
       "      <td>0.026123</td>\n",
       "      <td>3.592825</td>\n",
       "      <td>0.024033</td>\n",
       "      <td>0.556942</td>\n",
       "      <td>1.202468</td>\n",
       "      <td>87.492805</td>\n",
       "      <td>True</td>\n",
       "      <td>Myeloid vs Smooth_muscle_cells</td>\n",
       "    </tr>\n",
       "  </tbody>\n",
       "</table>\n",
       "</div>"
      ],
      "text/plain": [
       "        proba_de  proba_not_de  bayes_factor    scale1    scale2  \\\n",
       "ACTA2     0.9998        0.0002      8.516943  0.000209  0.021659   \n",
       "MS4A6A    0.9996        0.0004      7.823621  0.004653  0.000074   \n",
       "MS4A4A    0.9994        0.0006      7.417964  0.001920  0.000034   \n",
       "CALD1     0.9992        0.0008      7.130086  0.001422  0.022258   \n",
       "IGFBP5    0.9990        0.0010      6.906745  0.000230  0.007490   \n",
       "\n",
       "        pseudocounts  delta  lfc_mean  lfc_median   lfc_std    lfc_min  \\\n",
       "ACTA2            0.0   0.25 -7.032821   -7.005724  1.961830 -13.479710   \n",
       "MS4A6A           0.0   0.25  6.676530    6.593922  2.171337  -0.809321   \n",
       "MS4A4A           0.0   0.25  6.389101    6.276639  2.315374  -1.344044   \n",
       "CALD1            0.0   0.25 -4.332909   -4.359652  1.326091  -9.202156   \n",
       "IGFBP5           0.0   0.25 -5.511497   -5.609962  1.846183 -12.000252   \n",
       "\n",
       "          lfc_max  raw_mean1  raw_mean2  non_zeros_proportion1  \\\n",
       "ACTA2    0.205027   0.074190  13.970368               0.065831   \n",
       "MS4A6A  13.737561   1.948803   0.004680               0.594566   \n",
       "MS4A4A  14.905746   0.899685   0.003120               0.381400   \n",
       "CALD1    0.178064   0.111808   8.237137               0.082550   \n",
       "IGFBP5   1.952321   0.026123   3.592825               0.024033   \n",
       "\n",
       "        non_zeros_proportion2  raw_normalized_mean1  raw_normalized_mean2  \\\n",
       "ACTA2                0.751950              2.114226            248.179764   \n",
       "MS4A6A               0.004680             47.831718              0.304685   \n",
       "MS4A4A               0.003120             19.409658              0.073182   \n",
       "CALD1                0.900156              4.560734            242.169189   \n",
       "IGFBP5               0.556942              1.202468             87.492805   \n",
       "\n",
       "        is_de_fdr_0.05                      comparison  \n",
       "ACTA2             True  Myeloid vs Smooth_muscle_cells  \n",
       "MS4A6A            True  Myeloid vs Smooth_muscle_cells  \n",
       "MS4A4A            True  Myeloid vs Smooth_muscle_cells  \n",
       "CALD1             True  Myeloid vs Smooth_muscle_cells  \n",
       "IGFBP5            True  Myeloid vs Smooth_muscle_cells  "
      ]
     },
     "execution_count": 16,
     "metadata": {},
     "output_type": "execute_result"
    }
   ],
   "source": [
    "de_df = model.differential_expression(\n",
    "    groupby=\"cell_type\", \n",
    "    group1=\"Myeloid\", \n",
    "    group2=\"Smooth_muscle_cells\"\n",
    ")\n",
    "de_df.head()\n"
   ]
  },
  {
   "cell_type": "code",
   "execution_count": 19,
   "metadata": {},
   "outputs": [
    {
     "name": "stdout",
     "output_type": "stream",
     "text": [
      "DE...: 100%|██████████| 11/11 [00:37<00:00,  3.41s/it]\n"
     ]
    },
    {
     "data": {
      "text/html": [
       "<div>\n",
       "<style scoped>\n",
       "    .dataframe tbody tr th:only-of-type {\n",
       "        vertical-align: middle;\n",
       "    }\n",
       "\n",
       "    .dataframe tbody tr th {\n",
       "        vertical-align: top;\n",
       "    }\n",
       "\n",
       "    .dataframe thead th {\n",
       "        text-align: right;\n",
       "    }\n",
       "</style>\n",
       "<table border=\"1\" class=\"dataframe\">\n",
       "  <thead>\n",
       "    <tr style=\"text-align: right;\">\n",
       "      <th></th>\n",
       "      <th>proba_de</th>\n",
       "      <th>proba_not_de</th>\n",
       "      <th>bayes_factor</th>\n",
       "      <th>scale1</th>\n",
       "      <th>scale2</th>\n",
       "      <th>pseudocounts</th>\n",
       "      <th>delta</th>\n",
       "      <th>lfc_mean</th>\n",
       "      <th>lfc_median</th>\n",
       "      <th>lfc_std</th>\n",
       "      <th>lfc_min</th>\n",
       "      <th>lfc_max</th>\n",
       "      <th>raw_mean1</th>\n",
       "      <th>raw_mean2</th>\n",
       "      <th>non_zeros_proportion1</th>\n",
       "      <th>non_zeros_proportion2</th>\n",
       "      <th>raw_normalized_mean1</th>\n",
       "      <th>raw_normalized_mean2</th>\n",
       "      <th>is_de_fdr_0.05</th>\n",
       "      <th>comparison</th>\n",
       "    </tr>\n",
       "  </thead>\n",
       "  <tbody>\n",
       "    <tr>\n",
       "      <th>FASN</th>\n",
       "      <td>0.9992</td>\n",
       "      <td>0.0008</td>\n",
       "      <td>7.130086</td>\n",
       "      <td>0.012678</td>\n",
       "      <td>0.000145</td>\n",
       "      <td>0.0</td>\n",
       "      <td>0.25</td>\n",
       "      <td>6.752458</td>\n",
       "      <td>6.865678</td>\n",
       "      <td>2.080543</td>\n",
       "      <td>-1.885006</td>\n",
       "      <td>14.140721</td>\n",
       "      <td>7.062068</td>\n",
       "      <td>0.025086</td>\n",
       "      <td>0.841379</td>\n",
       "      <td>0.022167</td>\n",
       "      <td>129.074371</td>\n",
       "      <td>1.084626</td>\n",
       "      <td>True</td>\n",
       "      <td>Adipocytes vs Rest</td>\n",
       "    </tr>\n",
       "    <tr>\n",
       "      <th>PTPRF</th>\n",
       "      <td>0.9990</td>\n",
       "      <td>0.0010</td>\n",
       "      <td>6.906745</td>\n",
       "      <td>0.003039</td>\n",
       "      <td>0.000070</td>\n",
       "      <td>0.0</td>\n",
       "      <td>0.25</td>\n",
       "      <td>6.252528</td>\n",
       "      <td>6.195706</td>\n",
       "      <td>2.255522</td>\n",
       "      <td>-2.676909</td>\n",
       "      <td>14.256748</td>\n",
       "      <td>1.468965</td>\n",
       "      <td>0.011300</td>\n",
       "      <td>0.600000</td>\n",
       "      <td>0.010651</td>\n",
       "      <td>26.615402</td>\n",
       "      <td>0.438129</td>\n",
       "      <td>True</td>\n",
       "      <td>Adipocytes vs Rest</td>\n",
       "    </tr>\n",
       "    <tr>\n",
       "      <th>GYG2</th>\n",
       "      <td>0.9986</td>\n",
       "      <td>0.0014</td>\n",
       "      <td>6.569875</td>\n",
       "      <td>0.002164</td>\n",
       "      <td>0.000030</td>\n",
       "      <td>0.0</td>\n",
       "      <td>0.25</td>\n",
       "      <td>7.228670</td>\n",
       "      <td>6.848175</td>\n",
       "      <td>3.392981</td>\n",
       "      <td>-2.433887</td>\n",
       "      <td>20.362829</td>\n",
       "      <td>1.386207</td>\n",
       "      <td>0.002649</td>\n",
       "      <td>0.462069</td>\n",
       "      <td>0.002595</td>\n",
       "      <td>22.767191</td>\n",
       "      <td>0.110073</td>\n",
       "      <td>True</td>\n",
       "      <td>Adipocytes vs Rest</td>\n",
       "    </tr>\n",
       "    <tr>\n",
       "      <th>SLC19A3</th>\n",
       "      <td>0.9986</td>\n",
       "      <td>0.0014</td>\n",
       "      <td>6.569875</td>\n",
       "      <td>0.004304</td>\n",
       "      <td>0.000048</td>\n",
       "      <td>0.0</td>\n",
       "      <td>0.25</td>\n",
       "      <td>7.746510</td>\n",
       "      <td>7.728087</td>\n",
       "      <td>3.002410</td>\n",
       "      <td>-1.650579</td>\n",
       "      <td>18.112562</td>\n",
       "      <td>2.910343</td>\n",
       "      <td>0.004650</td>\n",
       "      <td>0.572414</td>\n",
       "      <td>0.004325</td>\n",
       "      <td>51.325165</td>\n",
       "      <td>0.268085</td>\n",
       "      <td>True</td>\n",
       "      <td>Adipocytes vs Rest</td>\n",
       "    </tr>\n",
       "    <tr>\n",
       "      <th>CIDEC</th>\n",
       "      <td>0.9986</td>\n",
       "      <td>0.0014</td>\n",
       "      <td>6.569875</td>\n",
       "      <td>0.001999</td>\n",
       "      <td>0.000023</td>\n",
       "      <td>0.0</td>\n",
       "      <td>0.25</td>\n",
       "      <td>7.212508</td>\n",
       "      <td>7.226597</td>\n",
       "      <td>2.517421</td>\n",
       "      <td>-2.451948</td>\n",
       "      <td>17.347637</td>\n",
       "      <td>1.137931</td>\n",
       "      <td>0.001406</td>\n",
       "      <td>0.510345</td>\n",
       "      <td>0.001406</td>\n",
       "      <td>21.809771</td>\n",
       "      <td>0.057564</td>\n",
       "      <td>True</td>\n",
       "      <td>Adipocytes vs Rest</td>\n",
       "    </tr>\n",
       "  </tbody>\n",
       "</table>\n",
       "</div>"
      ],
      "text/plain": [
       "         proba_de  proba_not_de  bayes_factor    scale1    scale2  \\\n",
       "FASN       0.9992        0.0008      7.130086  0.012678  0.000145   \n",
       "PTPRF      0.9990        0.0010      6.906745  0.003039  0.000070   \n",
       "GYG2       0.9986        0.0014      6.569875  0.002164  0.000030   \n",
       "SLC19A3    0.9986        0.0014      6.569875  0.004304  0.000048   \n",
       "CIDEC      0.9986        0.0014      6.569875  0.001999  0.000023   \n",
       "\n",
       "         pseudocounts  delta  lfc_mean  lfc_median   lfc_std   lfc_min  \\\n",
       "FASN              0.0   0.25  6.752458    6.865678  2.080543 -1.885006   \n",
       "PTPRF             0.0   0.25  6.252528    6.195706  2.255522 -2.676909   \n",
       "GYG2              0.0   0.25  7.228670    6.848175  3.392981 -2.433887   \n",
       "SLC19A3           0.0   0.25  7.746510    7.728087  3.002410 -1.650579   \n",
       "CIDEC             0.0   0.25  7.212508    7.226597  2.517421 -2.451948   \n",
       "\n",
       "           lfc_max  raw_mean1  raw_mean2  non_zeros_proportion1  \\\n",
       "FASN     14.140721   7.062068   0.025086               0.841379   \n",
       "PTPRF    14.256748   1.468965   0.011300               0.600000   \n",
       "GYG2     20.362829   1.386207   0.002649               0.462069   \n",
       "SLC19A3  18.112562   2.910343   0.004650               0.572414   \n",
       "CIDEC    17.347637   1.137931   0.001406               0.510345   \n",
       "\n",
       "         non_zeros_proportion2  raw_normalized_mean1  raw_normalized_mean2  \\\n",
       "FASN                  0.022167            129.074371              1.084626   \n",
       "PTPRF                 0.010651             26.615402              0.438129   \n",
       "GYG2                  0.002595             22.767191              0.110073   \n",
       "SLC19A3               0.004325             51.325165              0.268085   \n",
       "CIDEC                 0.001406             21.809771              0.057564   \n",
       "\n",
       "         is_de_fdr_0.05          comparison  \n",
       "FASN               True  Adipocytes vs Rest  \n",
       "PTPRF              True  Adipocytes vs Rest  \n",
       "GYG2               True  Adipocytes vs Rest  \n",
       "SLC19A3            True  Adipocytes vs Rest  \n",
       "CIDEC              True  Adipocytes vs Rest  "
      ]
     },
     "execution_count": 19,
     "metadata": {},
     "output_type": "execute_result"
    }
   ],
   "source": [
    "de_df = model.differential_expression(\n",
    "    groupby=\"cell_type\", \n",
    ")\n",
    "de_df.head()"
   ]
  },
  {
   "cell_type": "code",
   "execution_count": null,
   "metadata": {},
   "outputs": [],
   "source": []
  }
 ],
 "metadata": {
  "accelerator": "GPU",
  "colab": {
   "collapsed_sections": [],
   "name": "DE_tests.ipynb",
   "provenance": []
  },
  "environment": {
   "name": "pytorch-gpu.1-8.m71",
   "type": "gcloud",
   "uri": "gcr.io/deeplearning-platform-release/pytorch-gpu.1-8:m71"
  },
  "kernelspec": {
   "display_name": "Python 3",
   "language": "python",
   "name": "python3"
  },
  "language_info": {
   "codemirror_mode": {
    "name": "ipython",
    "version": 3
   },
   "file_extension": ".py",
   "mimetype": "text/x-python",
   "name": "python",
   "nbconvert_exporter": "python",
   "pygments_lexer": "ipython3",
   "version": "3.7.10"
  },
  "pycharm": {
   "stem_cell": {
    "cell_type": "raw",
    "metadata": {
     "collapsed": false
    },
    "source": []
   }
  },
  "toc": {
   "base_numbering": 1,
   "nav_menu": {},
   "number_sections": true,
   "sideBar": true,
   "skip_h1_title": false,
   "title_cell": "Table of Contents",
   "title_sidebar": "Contents",
   "toc_cell": false,
   "toc_position": {},
   "toc_section_display": true,
   "toc_window_display": false
  }
 },
 "nbformat": 4,
 "nbformat_minor": 4
}
